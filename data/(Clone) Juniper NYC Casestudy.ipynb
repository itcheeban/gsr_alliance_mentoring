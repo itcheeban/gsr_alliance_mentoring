{
 "cells": [
  {
   "cell_type": "code",
   "execution_count": 0,
   "metadata": {
    "application/vnd.databricks.v1+cell": {
     "cellMetadata": {},
     "inputWidgets": {},
     "nuid": "9a4259a0-0cc1-49a4-b80b-bb2888075cdf",
     "showTitle": false,
     "tableResultSettingsMap": {},
     "title": ""
    }
   },
   "outputs": [],
   "source": [
    "#importing the libraries\n",
    "import pandas as pd\n",
    "import numpy as np\n",
    "import plotly.express as px\n",
    "import seaborn as sns\n",
    "import matplotlib.pyplot as plt\n",
    "from datetime import datetime\n",
    "import statsmodels.api as sm"
   ]
  },
  {
   "cell_type": "code",
   "execution_count": 0,
   "metadata": {
    "application/vnd.databricks.v1+cell": {
     "cellMetadata": {},
     "inputWidgets": {},
     "nuid": "86fd5f82-a18e-4d8f-8d7e-adc3ec0d09ec",
     "showTitle": false,
     "tableResultSettingsMap": {},
     "title": ""
    }
   },
   "outputs": [],
   "source": [
    "#pulling the data\n",
    "nyc_all_data = pd.read_csv('nyc_data.csv')"
   ]
  },
  {
   "cell_type": "code",
   "execution_count": 0,
   "metadata": {
    "application/vnd.databricks.v1+cell": {
     "cellMetadata": {},
     "inputWidgets": {},
     "nuid": "469c526a-f286-49a4-87f5-0a05d9a281e0",
     "showTitle": false,
     "tableResultSettingsMap": {},
     "title": ""
    }
   },
   "outputs": [],
   "source": [
    "nyc_all_data.describe()"
   ]
  },
  {
   "cell_type": "code",
   "execution_count": 0,
   "metadata": {
    "application/vnd.databricks.v1+cell": {
     "cellMetadata": {},
     "inputWidgets": {},
     "nuid": "773cfec4-f6af-4379-8f61-adbf93ff8d62",
     "showTitle": false,
     "tableResultSettingsMap": {},
     "title": ""
    }
   },
   "outputs": [],
   "source": [
    "nyc_all_data.head()"
   ]
  },
  {
   "cell_type": "code",
   "execution_count": 0,
   "metadata": {
    "application/vnd.databricks.v1+cell": {
     "cellMetadata": {},
     "inputWidgets": {},
     "nuid": "c7beaf3b-0872-474f-ad99-7bd235c1f9b5",
     "showTitle": false,
     "tableResultSettingsMap": {},
     "title": ""
    }
   },
   "outputs": [],
   "source": [
    "#check for any duplicates - starting from Collision ID column\n",
    "duplicates_collision_id = nyc_all_data['COLLISION_ID'].value_counts(sort=True, ascending=False)\n",
    "dv_collision_id = duplicates_collision_id[duplicates_collision_id>1]\n",
    "print(dv_collision_id)"
   ]
  },
  {
   "cell_type": "markdown",
   "metadata": {
    "application/vnd.databricks.v1+cell": {
     "cellMetadata": {},
     "inputWidgets": {},
     "nuid": "61fdf928-869f-4f80-bd1f-d9d913c1f440",
     "showTitle": false,
     "tableResultSettingsMap": {},
     "title": ""
    }
   },
   "source": [
    "Looks like the data doesnt have any duplicates for Collision ID"
   ]
  },
  {
   "cell_type": "code",
   "execution_count": 0,
   "metadata": {
    "application/vnd.databricks.v1+cell": {
     "cellMetadata": {},
     "inputWidgets": {},
     "nuid": "cdb95b56-941b-49a0-a20b-969e6ccfdf1a",
     "showTitle": false,
     "tableResultSettingsMap": {},
     "title": ""
    }
   },
   "outputs": [],
   "source": [
    "nyc_all_data['BOROUGH'].describe()"
   ]
  },
  {
   "cell_type": "code",
   "execution_count": 0,
   "metadata": {
    "application/vnd.databricks.v1+cell": {
     "cellMetadata": {},
     "inputWidgets": {},
     "nuid": "6ae37576-382f-40f4-85cf-984497eddb4e",
     "showTitle": false,
     "tableResultSettingsMap": {},
     "title": ""
    }
   },
   "outputs": [],
   "source": [
    "nyc_all_data['BOROUGH'].describe()"
   ]
  },
  {
   "cell_type": "code",
   "execution_count": 0,
   "metadata": {
    "application/vnd.databricks.v1+cell": {
     "cellMetadata": {},
     "inputWidgets": {},
     "nuid": "22ee2955-5169-4d0c-a502-cae776f8f30a",
     "showTitle": false,
     "tableResultSettingsMap": {},
     "title": ""
    }
   },
   "outputs": [],
   "source": [
    "#check if there are any NAs\n",
    "nyc_all_data.isnull().sum()"
   ]
  },
  {
   "cell_type": "code",
   "execution_count": 0,
   "metadata": {
    "application/vnd.databricks.v1+cell": {
     "cellMetadata": {},
     "inputWidgets": {},
     "nuid": "46c555c2-4f6b-494f-a14f-dbe97ebcea1b",
     "showTitle": false,
     "tableResultSettingsMap": {},
     "title": ""
    }
   },
   "outputs": [],
   "source": [
    "#checking for Borough as null\n",
    "nyc_all_data[nyc_all_data['BOROUGH'].isnull()].isnull().sum()\n",
    "\n",
    "# Looks like if i drop na for Borough, it can be a better data"
   ]
  },
  {
   "cell_type": "code",
   "execution_count": 0,
   "metadata": {
    "application/vnd.databricks.v1+cell": {
     "cellMetadata": {},
     "inputWidgets": {},
     "nuid": "54d30cca-8c81-4c84-9db9-f8d5ce855657",
     "showTitle": false,
     "tableResultSettingsMap": {},
     "title": ""
    }
   },
   "outputs": [],
   "source": [
    "#dropping NA for borough\n",
    "nyc = nyc_all_data[nyc_all_data['BOROUGH'].notnull()]\n",
    "nyc.isnull().sum()"
   ]
  },
  {
   "cell_type": "code",
   "execution_count": 0,
   "metadata": {
    "application/vnd.databricks.v1+cell": {
     "cellMetadata": {},
     "inputWidgets": {},
     "nuid": "f19f3003-11da-4515-9ec5-7040a4550232",
     "showTitle": false,
     "tableResultSettingsMap": {},
     "title": ""
    }
   },
   "outputs": [],
   "source": [
    "# We see NA for persons injured and killed - assigning 0 for these as they are going to be an dependent variable for us\n",
    "# nyc['NUMBER OF PERSONS INJURED'] = nyc['NUMBER OF PERSONS INJURED'].fillna(0)\n",
    "# nyc['NUMBER OF PERSONS KILLED'] = nyc['NUMBER OF PERSONS KILLED'].fillna(0)\n",
    "nyc.loc[:, ['NUMBER OF PERSONS INJURED', 'NUMBER OF PERSONS KILLED']] = nyc.loc[:, ['NUMBER OF PERSONS INJURED', 'NUMBER OF PERSONS KILLED']].fillna(0)\n",
    "nyc.isnull().sum()"
   ]
  },
  {
   "cell_type": "code",
   "execution_count": 0,
   "metadata": {
    "application/vnd.databricks.v1+cell": {
     "cellMetadata": {},
     "inputWidgets": {},
     "nuid": "7dce856a-6c66-4036-8c1b-39e07c7138f1",
     "showTitle": false,
     "tableResultSettingsMap": {},
     "title": ""
    }
   },
   "outputs": [],
   "source": [
    "per_inj = nyc['NUMBER OF PERSONS INJURED'].sum()\n",
    "ped_inj = nyc['NUMBER OF PEDESTRIANS INJURED'].sum()\n",
    "cyc_inj = nyc['NUMBER OF CYCLIST INJURED'].sum()\n",
    "mot_inj = nyc['NUMBER OF MOTORIST INJURED'].sum()\n",
    "\n",
    "# Calculate the sum of pedestrians, cyclists, and motorists injured\n",
    "ped_cyc_mot_sum = ped_inj + cyc_inj + mot_inj\n",
    "\n",
    "# Check if the sum of pedestrian, cyclist, and motorist injuries equals the total injuries\n",
    "compare = per_inj == ped_cyc_mot_sum\n",
    "\n",
    "# Combine the results into a single DataFrame\n",
    "summary_table = pd.DataFrame({\n",
    "    'Persons Injured': [per_inj],\n",
    "    'Pedestrians Injured': [ped_inj],\n",
    "    'Cyclist Injured': [cyc_inj],\n",
    "    'Motorist Injured': [mot_inj],\n",
    "    'ped + cyc + mot': [ped_cyc_mot_sum],\n",
    "    'compare': [compare]\n",
    "})\n",
    "summary_table"
   ]
  },
  {
   "cell_type": "code",
   "execution_count": 0,
   "metadata": {
    "application/vnd.databricks.v1+cell": {
     "cellMetadata": {},
     "inputWidgets": {},
     "nuid": "3de327d3-269e-4865-b33b-729a23a33104",
     "showTitle": false,
     "tableResultSettingsMap": {},
     "title": ""
    }
   },
   "outputs": [],
   "source": [
    "per_kill = nyc['NUMBER OF PERSONS KILLED'].sum()\n",
    "ped_kill = nyc['NUMBER OF PEDESTRIANS KILLED'].sum()\n",
    "cyc_kill = nyc['NUMBER OF CYCLIST KILLED'].sum()\n",
    "mot_kill = nyc['NUMBER OF MOTORIST KILLED'].sum()\n",
    "\n",
    "# Calculate the sum of pedestrians, cyclists, and motorists injured\n",
    "ped_cyc_mot_sum = ped_kill + cyc_kill + mot_kill\n",
    "\n",
    "# Check if the sum of pedestrian, cyclist, and motorist injuries equals the total injuries\n",
    "compare = per_kill == ped_cyc_mot_sum\n",
    "\n",
    "# Combine the results into a single DataFrame\n",
    "summary_table = pd.DataFrame({\n",
    "    'Persons Killed': [per_kill],\n",
    "    'Pedestrians Killed': [ped_kill],\n",
    "    'Cyclist Killed': [cyc_kill],\n",
    "    'Motorist Killed': [mot_kill],\n",
    "    'ped + cyc + mot': [ped_cyc_mot_sum],\n",
    "    'compare': [compare]\n",
    "})\n",
    "summary_table"
   ]
  },
  {
   "cell_type": "code",
   "execution_count": 0,
   "metadata": {
    "application/vnd.databricks.v1+cell": {
     "cellMetadata": {},
     "inputWidgets": {},
     "nuid": "689bd8ec-c17e-4765-8da1-0c4926cf02c5",
     "showTitle": false,
     "tableResultSettingsMap": {},
     "title": ""
    }
   },
   "outputs": [],
   "source": [
    "# we are more interested if there was an injury or someone was killed and not really interested in how many as thats somthing not in our control\n",
    "# Injured flag and killed flag to identify the collision result\n",
    "\n",
    "# Creating injured_flag column using .loc\n",
    "nyc.loc[:, 'injured_flag'] = np.where((nyc['NUMBER OF PERSONS INJURED'] > 0) |\n",
    "                                      (nyc['NUMBER OF PEDESTRIANS INJURED'] > 0) |\n",
    "                                      (nyc['NUMBER OF CYCLIST INJURED'] > 0) |\n",
    "                                      (nyc['NUMBER OF MOTORIST INJURED'] > 0), 1, 0)\n",
    "\n",
    "# Creating killed_flag column using .loc\n",
    "nyc.loc[:, 'killed_flag'] = np.where((nyc['NUMBER OF PERSONS KILLED'] > 0) |\n",
    "                                     (nyc['NUMBER OF PEDESTRIANS KILLED'] > 0) |\n",
    "                                     (nyc['NUMBER OF CYCLIST KILLED'] > 0) |\n",
    "                                     (nyc['NUMBER OF MOTORIST KILLED'] > 0), 1, 0)"
   ]
  },
  {
   "cell_type": "markdown",
   "metadata": {
    "application/vnd.databricks.v1+cell": {
     "cellMetadata": {},
     "inputWidgets": {},
     "nuid": "eb22043c-28f4-4a11-9126-6abe8237a1b1",
     "showTitle": false,
     "tableResultSettingsMap": {},
     "title": ""
    }
   },
   "source": [
    "## Data Manipulation - Treatment of NAs, creating dataset with required fields only and creating additional fields"
   ]
  },
  {
   "cell_type": "code",
   "execution_count": 0,
   "metadata": {
    "application/vnd.databricks.v1+cell": {
     "cellMetadata": {},
     "inputWidgets": {},
     "nuid": "d2b412f4-9a69-4f7c-ae9a-4a13df8772c6",
     "showTitle": false,
     "tableResultSettingsMap": {},
     "title": ""
    }
   },
   "outputs": [],
   "source": [
    "# Calculate the count of NaN values for each column\n",
    "nan_counts = nyc.isna().sum()\n",
    "\n",
    "# Calculate the total count of non-NaN entries for each column\n",
    "total_counts = nyc.count()\n",
    "\n",
    "# Combine the results into a single DataFrame\n",
    "summary_table = pd.DataFrame({\n",
    "    'NaN Count': nan_counts,\n",
    "    'Total Count': total_counts\n",
    "})\n",
    "summary_table"
   ]
  },
  {
   "cell_type": "code",
   "execution_count": 0,
   "metadata": {
    "application/vnd.databricks.v1+cell": {
     "cellMetadata": {},
     "inputWidgets": {},
     "nuid": "803fba90-5c48-49c2-9e48-8a580070def1",
     "showTitle": false,
     "tableResultSettingsMap": {},
     "title": ""
    }
   },
   "outputs": [],
   "source": [
    "#creating df with only required fields\n",
    "nyc_data = nyc.loc[:,['COLLISION_ID','CRASH DATE','CRASH TIME','BOROUGH','ZIP CODE','LOCATION','injured_flag','killed_flag','CONTRIBUTING FACTOR VEHICLE 1','CONTRIBUTING FACTOR VEHICLE 2','VEHICLE TYPE CODE 1','VEHICLE TYPE CODE 2']]"
   ]
  },
  {
   "cell_type": "code",
   "execution_count": 0,
   "metadata": {
    "application/vnd.databricks.v1+cell": {
     "cellMetadata": {},
     "inputWidgets": {},
     "nuid": "639428e5-ceb4-4d59-ae56-6f17e61fe491",
     "showTitle": false,
     "tableResultSettingsMap": {},
     "title": ""
    }
   },
   "outputs": [],
   "source": [
    "# List of columns to fill NAs\n",
    "columns_to_fill = [\n",
    "    'CONTRIBUTING FACTOR VEHICLE 1', \n",
    "    'CONTRIBUTING FACTOR VEHICLE 2', \n",
    "    'VEHICLE TYPE CODE 1', \n",
    "    'VEHICLE TYPE CODE 2'\n",
    "]\n",
    "\n",
    "# Fill NAs in the specified columns with 'Unspecified'\n",
    "nyc_data[columns_to_fill] = nyc_data[columns_to_fill].fillna('Unspecified')\n",
    "\n",
    "# -999, -999 for location field\n",
    "# nyc_data['LATITUDE'] = nyc_data['LATITUDE'].fillna(-999)\n",
    "# nyc_data['LONGITUDE'] = nyc_data['LONGITUDE'].fillna(-999)\n",
    "nyc_data['LOCATION'] = nyc_data['LOCATION'].fillna('(-999, -999)')\n",
    "\n",
    "# Zipcode missing data with 00000\n",
    "nyc_data['ZIP CODE'] = nyc_data['ZIP CODE'].fillna(\"00000\")"
   ]
  },
  {
   "cell_type": "code",
   "execution_count": 0,
   "metadata": {
    "application/vnd.databricks.v1+cell": {
     "cellMetadata": {},
     "inputWidgets": {},
     "nuid": "0135f006-30fb-443e-b029-0598fced1af9",
     "showTitle": false,
     "tableResultSettingsMap": {},
     "title": ""
    }
   },
   "outputs": [],
   "source": [
    "# Calculate the count of NaN values for each column\n",
    "nan_counts = nyc_data.isna().sum()\n",
    "\n",
    "# Calculate the total count of non-NaN entries for each column\n",
    "total_counts = nyc_data.count()\n",
    "\n",
    "# Combine the results into a single DataFrame\n",
    "summary_table = pd.DataFrame({\n",
    "    'NaN Count': nan_counts,\n",
    "    'Total Count': total_counts\n",
    "})\n",
    "summary_table"
   ]
  },
  {
   "cell_type": "code",
   "execution_count": 0,
   "metadata": {
    "application/vnd.databricks.v1+cell": {
     "cellMetadata": {},
     "inputWidgets": {},
     "nuid": "409bfb27-cc72-40c0-a057-430cf4ceabe1",
     "showTitle": false,
     "tableResultSettingsMap": {},
     "title": ""
    }
   },
   "outputs": [],
   "source": [
    "#checking for data format for all the fields\n",
    "nyc_data.dtypes"
   ]
  },
  {
   "cell_type": "code",
   "execution_count": 0,
   "metadata": {
    "application/vnd.databricks.v1+cell": {
     "cellMetadata": {},
     "inputWidgets": {},
     "nuid": "31ff6b7d-0654-4b07-816f-d9e66572b824",
     "showTitle": false,
     "tableResultSettingsMap": {},
     "title": ""
    }
   },
   "outputs": [],
   "source": [
    "nyc_data['Year'] = pd.to_datetime(nyc_data['CRASH DATE']).dt.year\n",
    "nyc_data['Month'] = pd.to_datetime(nyc_data['CRASH DATE']).dt.month\n",
    "\n",
    "# # Filter out data for the year 2024\n",
    "# nyc_data = nyc_data[nyc_data['Year'] != 2024]"
   ]
  },
  {
   "cell_type": "code",
   "execution_count": 0,
   "metadata": {
    "application/vnd.databricks.v1+cell": {
     "cellMetadata": {},
     "inputWidgets": {},
     "nuid": "ddb8fa6d-28e7-4885-9c17-968536639ecd",
     "showTitle": false,
     "tableResultSettingsMap": {},
     "title": ""
    }
   },
   "outputs": [],
   "source": [
    "nyc_data.head()"
   ]
  },
  {
   "cell_type": "code",
   "execution_count": 0,
   "metadata": {
    "application/vnd.databricks.v1+cell": {
     "cellMetadata": {},
     "inputWidgets": {},
     "nuid": "6c1f12a3-122e-4733-a73e-a0e93c18a81c",
     "showTitle": false,
     "tableResultSettingsMap": {},
     "title": ""
    }
   },
   "outputs": [],
   "source": [
    "# Convert 'CRASH DATE' to datetime\n",
    "nyc_data['CRASH DATE'] = pd.to_datetime(nyc_data['CRASH DATE'])\n",
    "\n",
    "# Convert 'CRASH TIME' to time using the correct format\n",
    "nyc_data['CRASH TIME'] = pd.to_datetime(nyc_data['CRASH TIME'], format='%H:%M')\n",
    "\n",
    "# Combine 'CRASH DATE' and 'CRASH TIME' into a single 'CRASH DATETIME' column\n",
    "nyc_data['CRASH DATETIME'] = nyc_data.apply(lambda row: datetime.combine(row['CRASH DATE'], row['CRASH TIME'].time()), axis=1)\n",
    "\n",
    "\n",
    "# Extract day of the week & hour\n",
    "nyc_data['day_of_week'] = nyc_data['CRASH DATE'].dt.day_name()\n",
    "nyc_data['hour'] = nyc_data['CRASH TIME'].dt.hour\n",
    "\n",
    "# Define function to categorize time ranges\n",
    "def categorize_time(hour):\n",
    "    if 5 <= hour < 12:\n",
    "        return 'Morning'\n",
    "    elif 12 <= hour < 17:\n",
    "        return 'Afternoon'\n",
    "    elif 17 <= hour < 21:\n",
    "        return 'Evening'\n",
    "    else:\n",
    "        return 'Night'\n",
    "\n",
    "# Create 'time_category' column based on 'CRASH DATETIME'\n",
    "nyc_data['time_category'] = nyc_data['CRASH DATETIME'].dt.hour.apply(categorize_time)\n",
    "\n",
    "# Create 'weekend' flag column\n",
    "nyc_data['weekend'] = (nyc_data['CRASH DATETIME'].dt.dayofweek >= 5).astype(int)"
   ]
  },
  {
   "cell_type": "code",
   "execution_count": 0,
   "metadata": {
    "application/vnd.databricks.v1+cell": {
     "cellMetadata": {},
     "inputWidgets": {},
     "nuid": "2e1062f9-7713-4bba-af31-7177bd5ded74",
     "showTitle": false,
     "tableResultSettingsMap": {},
     "title": ""
    }
   },
   "outputs": [],
   "source": [
    "#checking for data format for all the fields\n",
    "nyc_data.dtypes"
   ]
  },
  {
   "cell_type": "code",
   "execution_count": 0,
   "metadata": {
    "application/vnd.databricks.v1+cell": {
     "cellMetadata": {},
     "inputWidgets": {},
     "nuid": "8c9a0f2f-50f9-4f20-be94-4b1036a7f98a",
     "showTitle": false,
     "tableResultSettingsMap": {},
     "title": ""
    }
   },
   "outputs": [],
   "source": [
    "# Cleaning Contributing Factor and Vehicle Type fields for any miss spellings etc\n",
    "pd.set_option('display.max_rows', None)\n",
    "\n",
    "# Concatenate 'CONTRIBUTING FACTOR VEHICLE 1' and 'CONTRIBUTING FACTOR VEHICLE 2'\n",
    "combined_factors = nyc_data['CONTRIBUTING FACTOR VEHICLE 1'].astype(str) + ', ' + nyc_data['CONTRIBUTING FACTOR VEHICLE 2'].astype(str)\n",
    "\n",
    "# Concatenate 'VEHICLE TYPE CODE 1' and 'VEHICLE TYPE CODE 2'\n",
    "# combined_type = nyc_data['VEHICLE TYPE CODE 1'].astype(str) + ', ' + nyc_data['VEHICLE TYPE CODE 2'].astype(str)\n",
    "\n",
    "# Identify misspellings and inconsistencies in the combined series\n",
    "# print(combined_factors.value_counts())\n",
    "# print(combined_type.unique())\n",
    "\n",
    "# Export unique combinations to a CSV file\n",
    "combined_factors_unique = combined_factors.unique()\n",
    "unique_factors_df = pd.DataFrame({'Combined Factors': combined_factors_unique})\n",
    "unique_factors_df.to_csv('unique_combined_factors1.csv', index=False)\n",
    "\n",
    "# # Export unique combinations to a CSV file\n",
    "# combined_type_unique = combined_type.unique()\n",
    "# unique_type_df = pd.DataFrame({'Combined Types': combined_type_unique})\n",
    "# unique_type_df.to_csv('unique_combined_type.csv', index=False)"
   ]
  },
  {
   "cell_type": "code",
   "execution_count": 0,
   "metadata": {
    "application/vnd.databricks.v1+cell": {
     "cellMetadata": {},
     "inputWidgets": {},
     "nuid": "810ccec7-6666-42be-a777-b796e0c00721",
     "showTitle": false,
     "tableResultSettingsMap": {},
     "title": ""
    }
   },
   "outputs": [],
   "source": [
    "# Create a mapping dictionary\n",
    "factor_mapping = {'1, Unspecified': 'Unspecified, Unspecified','1, Driver Inexperience': 'Unspecified, Driver Inexperience','1, Unsafe Speed': 'Unspecified, Unsafe Speed','1, 1': 'Unspecified, Unspecified','1, Passing or Lane Usage Improper': 'Unspecified, Passing or Lane Usage Improper','80, Unspecified': 'Unspecified, Unspecified','80, 80': 'Unspecified, Unspecified','80, Oversized Vehicle': 'Unspecified, Oversized Vehicle','80, Fell Asleep': 'Unspecified, Fell Asleep','80, Aggressive Driving/Road Rage': 'Unspecified, Aggressive Driving/Road Rage','80, Traffic Control Disregarded': 'Unspecified, Traffic Control Disregarded','80, Pavement Slippery': 'Unspecified, Pavement Slippery','80, Tire Failure/Inadequate': 'Unspecified, Tire Failure/Inadequate','Alcohol Involvement, Illnes': 'Alcohol Involvement, illness','Animals Action, Illnes': 'Animals Action, illness','Driver Inattention/Distraction, Illnes': 'Driver Inattention/Distraction, illness','Driver Inexperience, Illnes': 'Driver Inexperience, illness','Failure to Yield Right-of-Way, Illnes': 'Failure to Yield Right-of-Way, illness','Following Too Closely, Illnes': 'Following Too Closely, illness','Illnes, Unspecified': 'illness, Unspecified','Illnes, Driver Inattention/Distraction': 'illness, Driver Inattention/Distraction','Illnes, Unsafe Lane Changing': 'illness, Unsafe Lane Changing','Illnes, Other Vehicular': 'illness, Other Vehicular','Illnes, Backing Unsafely': 'illness, Backing Unsafely','Illnes, Illnes': 'illness, Illnes','Illnes, Driver Inexperience': 'illness, Driver Inexperience','Illnes, Fatigued/Drowsy': 'illness, Fatigued/Drowsy','Illnes, Alcohol Involvement': 'illness, Alcohol Involvement','Illnes, Following Too Closely': 'illness, Following Too Closely','Illnes, View Obstructed/Limited': 'illness, View Obstructed/Limited','Illnes, Pavement Slippery': 'illness, Pavement Slippery','Illnes, Passing or Lane Usage Improper': 'illness, Passing or Lane Usage Improper','Illness, Unspecified': 'illness, Unspecified','Illness, Illness': 'illness, Illness','Illness, Failure to Yield Right-of-Way': 'illness, Failure to Yield Right-of-Way','Illness, Driver Inattention/Distraction': 'illness, Driver Inattention/Distraction','Illness, Passenger Distraction': 'illness, Passenger Distraction','Illness, Physical Disability': 'illness, Physical Disability','Illness, Other Vehicular': 'illness, Other Vehicular','Illness, Traffic Control Disregarded': 'illness, Traffic Control Disregarded','Illness, Lost Consciousness': 'illness, Lost Consciousness','Illness, Fatigued/Drowsy': 'illness, Fatigued/Drowsy','Illness, Oversized Vehicle': 'illness, Oversized Vehicle','Illness, Backing Unsafely': 'illness, Backing Unsafely','Illness, Outside Car Distraction': 'illness, Outside Car Distraction','Illness, Driver Inexperience': 'illness, Driver Inexperience','Illness, Prescription Medication': 'illness, Prescription Medication','Illness, Glare': 'illness, Glare','Illness, Unsafe Lane Changing': 'illness, Unsafe Lane Changing','Illness, Turning Improperly': 'illness, Turning Improperly','Illness, Other Electronic Device': 'illness, Other Electronic Device','Illness, View Obstructed/Limited': 'illness, View Obstructed/Limited','Illness, Lane Marking Improper/Inadequate': 'illness, Lane Marking Improper/Inadequate','Illness, Aggressive Driving/Road Rage': 'illness, Aggressive Driving/Road Rage','Illness, Failure to Keep Right': 'illness, Failure to Keep Right','Illness, Alcohol Involvement': 'illness, Alcohol Involvement','Illness, Pavement Slippery': 'illness, Pavement Slippery','Other Vehicular, Illnes': 'Other Vehicular, illness','Passing or Lane Usage Improper, Illnes': 'Passing or Lane Usage Improper, illness','Passing Too Closely, Illnes': 'Passing Too Closely, illness','Traffic Control Disregarded, Illnes': 'Traffic Control Disregarded, illness','Turning Improperly, Illnes': 'Turning Improperly, illness','Aggressive Driving/Road Rage, 1': 'Aggressive Driving/Road Rage, Unspecified','Other Vehicular, 80': 'Other Vehicular, Unspecified'}\n",
    "\n",
    "# Apply the mapping to the combined series\n",
    "combined_factors = combined_factors.replace(factor_mapping)\n",
    "\n",
    "# Split the modified series back into separate columns\n",
    "nyc_data[['CONTRIBUTING FACTOR VEHICLE 1', 'CONTRIBUTING FACTOR VEHICLE 2']] = combined_factors.str.split(', ', expand=True)\n",
    "\n",
    "# Clean up data\n",
    "nyc_data['CONTRIBUTING FACTOR VEHICLE 1'] = nyc_data['CONTRIBUTING FACTOR VEHICLE 1'].str.strip().str.lower()\n",
    "nyc_data['CONTRIBUTING FACTOR VEHICLE 2'] = nyc_data['CONTRIBUTING FACTOR VEHICLE 2'].str.strip().str.lower()\n"
   ]
  },
  {
   "cell_type": "code",
   "execution_count": 0,
   "metadata": {
    "application/vnd.databricks.v1+cell": {
     "cellMetadata": {},
     "inputWidgets": {},
     "nuid": "903a5c77-a664-4eb4-b94f-d358d1ee590c",
     "showTitle": false,
     "tableResultSettingsMap": {},
     "title": ""
    }
   },
   "outputs": [],
   "source": [
    "# Define categories\n",
    "vehicular_factors = ['steering failure','oversized vehicle','view obstructed/limited','other vehicular','brakes defective','tinted windows','tire failure/inadequate','accelerator defective','driverless/runaway vehicle','headlights defective','windshield inadequate','vehicle vandalism','other electronic device','tow hitch defective','other lighting defects']\n",
    "human_factors = ['driver inexperience','passing too closely','turning improperly','reaction to uninvolved vehicle','following too closely','passing or lane usage improper','driver inattention/distraction','unsafe lane changing','alcohol involvement','traffic control disregarded','failure to yield right-of-way','aggressive driving/road rage','unsafe speed','illness','lost consciousness','backing unsafely','passenger distraction','fell asleep','pedestrian/bicyclist/other pedestrian error/confusion','drugs (illegal)','outside car distraction','fatigued/drowsy','physical disability','glare','eating or drinking','failure to keep right','cell phone (hands-free)','cell phone (hand-held)','using on board navigation device','prescription medication','texting','shoulders defective/improper','listening/using headphones','illnes']\n",
    "environmental_factors = ['pavement slippery','obstruction/debris','animals action','pavement defective','lane marking improper/inadequate','traffic control device improper/non-working','reaction to other uninvolved vehicle']\n",
    "\n",
    "# Categorization function\n",
    "def categorize_factor(factor):\n",
    "    # factor = factor.strip().title()  # Normalize the factor string (strip whitespaces, title case)\n",
    "    \n",
    "    if factor in vehicular_factors:\n",
    "        return 'Vehicular'\n",
    "    elif factor in human_factors:\n",
    "        return 'Human'\n",
    "    elif factor in environmental_factors:\n",
    "        return 'Environmental'\n",
    "    else:\n",
    "        return 'Unknown'  # For factors that don't fit in any category\n",
    "\n",
    "# Apply the categorization to both columns\n",
    "nyc_data['FACTOR VEHICLE 1 CATEGORY'] = nyc_data['CONTRIBUTING FACTOR VEHICLE 1'].apply(categorize_factor)\n",
    "nyc_data['FACTOR VEHICLE 2 CATEGORY'] = nyc_data['CONTRIBUTING FACTOR VEHICLE 2'].apply(categorize_factor)\n",
    "\n",
    "nyc_data['COMBINED FACTOR CATEGORY'] = nyc_data['FACTOR VEHICLE 1 CATEGORY'].astype(str) + ', ' + nyc_data['FACTOR VEHICLE 2 CATEGORY'].astype(str)\n",
    "# Group by the combined factor category and count occurrences\n",
    "category_counts = nyc_data['COMBINED FACTOR CATEGORY'].value_counts()\n",
    "\n",
    "# Print the results\n",
    "print(category_counts)"
   ]
  },
  {
   "cell_type": "code",
   "execution_count": 0,
   "metadata": {
    "application/vnd.databricks.v1+cell": {
     "cellMetadata": {},
     "inputWidgets": {},
     "nuid": "2d735a74-c5df-474b-8274-dce1cf89565b",
     "showTitle": false,
     "tableResultSettingsMap": {},
     "title": ""
    }
   },
   "outputs": [],
   "source": [
    "# Create the any_factor_Environmental field\n",
    "nyc_data['any_factor_Environmental'] = ((nyc_data['FACTOR VEHICLE 1 CATEGORY'] == 'Environmental') | \n",
    "                                        (nyc_data['FACTOR VEHICLE 2 CATEGORY'] == 'Environmental')).astype(int)\n",
    "\n",
    "# Create the any_factor_Human field\n",
    "nyc_data['any_factor_Human'] = ((nyc_data['FACTOR VEHICLE 1 CATEGORY'] == 'Human') | \n",
    "                                (nyc_data['FACTOR VEHICLE 2 CATEGORY'] == 'Human')).astype(int)\n",
    "\n",
    "# Create the any_factor_Vehicular field\n",
    "nyc_data['any_factor_Vehicular'] = ((nyc_data['FACTOR VEHICLE 1 CATEGORY'] == 'Vehicular') | \n",
    "                                    (nyc_data['FACTOR VEHICLE 2 CATEGORY'] == 'Vehicular')).astype(int)\n"
   ]
  },
  {
   "cell_type": "code",
   "execution_count": 0,
   "metadata": {
    "application/vnd.databricks.v1+cell": {
     "cellMetadata": {},
     "inputWidgets": {},
     "nuid": "fb07bea4-4a82-44ef-8887-144e62657e4b",
     "showTitle": false,
     "tableResultSettingsMap": {},
     "title": ""
    }
   },
   "outputs": [],
   "source": [
    "# # Filter out data for the year 2024\n",
    "# nyc_data = nyc_data[nyc_data['Year'] != 2024]\n",
    "\n",
    "# Group by year and calculate totals\n",
    "yearly_totals = nyc_data.groupby('Year').agg(\n",
    "    collisions=('COLLISION_ID', 'count'),\n",
    "    injuries=('injured_flag', 'sum'),\n",
    "    deaths=('killed_flag', 'sum')\n",
    ")\n",
    "\n",
    "# Calculate year-over-year percentage change\n",
    "yearly_totals['Collision_YoY'] = yearly_totals['collisions'].pct_change() * 100\n",
    "yearly_totals['Injuries_YoY'] = yearly_totals['injuries'].pct_change() * 100\n",
    "yearly_totals['Deaths_YoY'] = yearly_totals['deaths'].pct_change() * 100\n",
    "\n",
    "# Drop the first row as it will have NaN for YoY percentages\n",
    "# yearly_totals = yearly_totals.dropna()\n",
    "\n",
    "# Sort the DataFrame by year in ascending order\n",
    "yearly_totals_sorted = yearly_totals.sort_values(by='Year', ascending=True)\n",
    "\n",
    "print(yearly_totals_sorted)"
   ]
  },
  {
   "cell_type": "code",
   "execution_count": 0,
   "metadata": {
    "application/vnd.databricks.v1+cell": {
     "cellMetadata": {},
     "inputWidgets": {},
     "nuid": "6e181f03-3a1c-463f-957f-b69db61718aa",
     "showTitle": false,
     "tableResultSettingsMap": {},
     "title": ""
    }
   },
   "outputs": [],
   "source": []
  },
  {
   "cell_type": "markdown",
   "metadata": {
    "application/vnd.databricks.v1+cell": {
     "cellMetadata": {},
     "inputWidgets": {},
     "nuid": "65e559bf-8478-44cc-be38-089cc37a1447",
     "showTitle": false,
     "tableResultSettingsMap": {},
     "title": ""
    }
   },
   "source": [
    "## Visualization"
   ]
  },
  {
   "cell_type": "code",
   "execution_count": 0,
   "metadata": {
    "application/vnd.databricks.v1+cell": {
     "cellMetadata": {},
     "inputWidgets": {},
     "nuid": "66fedfda-244e-4b6b-8996-217b2f9f5602",
     "showTitle": false,
     "tableResultSettingsMap": {},
     "title": ""
    }
   },
   "outputs": [],
   "source": [
    "# First, filter the dataset to include only the years 2013 to 2023\n",
    "filtered_data = nyc_data[(nyc_data['CRASH DATE'].dt.year >= 2013) & (nyc_data['CRASH DATE'].dt.year <= 2023)]\n",
    "\n",
    "# Group the filtered data by year and count the number of injuries and deaths for each year\n",
    "injuries_by_year = filtered_data.groupby(filtered_data['CRASH DATE'].dt.year)['injured_flag'].sum()\n",
    "deaths_by_year = filtered_data.groupby(filtered_data['CRASH DATE'].dt.year)['killed_flag'].sum()\n",
    "\n",
    "# Plotting injuries\n",
    "plt.figure(figsize=(10, 6))\n",
    "bars = injuries_by_year.plot(kind='bar', color='skyblue')\n",
    "plt.title('Yearly Count of Injuries (2013-2023)')\n",
    "plt.xlabel('Year')\n",
    "plt.ylabel('Number of Injuries')\n",
    "plt.xticks(rotation=0)\n",
    "plt.grid(axis='y')\n",
    "\n",
    "# Setting y-axis range and grid lines for injuries\n",
    "plt.ylim(20000, 32000)\n",
    "plt.yticks(range(20000, 32001, 2000))\n",
    "\n",
    "# Adding numbers inside the bars\n",
    "for bar in bars.patches:\n",
    "    plt.annotate(format(bar.get_height(), '.0f'), \n",
    "                 (bar.get_x() + bar.get_width() / 2, \n",
    "                  bar.get_height()), ha='center', va='center',\n",
    "                 xytext=(0, 5), textcoords='offset points')\n",
    "\n",
    "plt.tight_layout()\n",
    "plt.show()\n",
    "\n",
    "# Plotting deaths\n",
    "plt.figure(figsize=(10, 6))\n",
    "bars = deaths_by_year.plot(kind='bar', color='salmon')\n",
    "plt.title('Yearly Count of Deaths (2013-2023)')\n",
    "plt.xlabel('Year')\n",
    "plt.ylabel('Number of Deaths')\n",
    "plt.xticks(rotation=0)\n",
    "plt.grid(axis='y')\n",
    "\n",
    "# Setting y-axis range and grid lines for deaths\n",
    "plt.ylim(110, 210)\n",
    "plt.yticks(range(110, 211, 10))\n",
    "\n",
    "# Adding numbers inside the bars\n",
    "for bar in bars.patches:\n",
    "    plt.annotate(format(bar.get_height(), '.0f'), \n",
    "                 (bar.get_x() + bar.get_width() / 2, \n",
    "                  bar.get_height()), ha='center', va='center',\n",
    "                 xytext=(0, 5), textcoords='offset points')\n",
    "\n",
    "plt.tight_layout()\n",
    "plt.show()"
   ]
  },
  {
   "cell_type": "code",
   "execution_count": 0,
   "metadata": {
    "application/vnd.databricks.v1+cell": {
     "cellMetadata": {},
     "inputWidgets": {},
     "nuid": "ea1256b8-9801-4071-96d8-94cb61ec0a1d",
     "showTitle": false,
     "tableResultSettingsMap": {},
     "title": ""
    }
   },
   "outputs": [],
   "source": [
    "# First, filter the dataset to include only the years 2013 to 2023\n",
    "filtered_data = nyc_data[(nyc_data['CRASH DATE'].dt.year >= 2013) & (nyc_data['CRASH DATE'].dt.year <= 2023)]\n",
    "\n",
    "# Create a new column for year-month\n",
    "filtered_data['YearMonth'] = filtered_data['CRASH DATE'].dt.to_period('M')\n",
    "\n",
    "# Group the filtered data by YearMonth and sum the number of injuries and deaths for each month\n",
    "monthly_injuries = filtered_data.groupby('YearMonth')['injured_flag'].sum()\n",
    "monthly_deaths = filtered_data.groupby('YearMonth')['killed_flag'].sum()\n",
    "\n",
    "# Plotting monthly injuries\n",
    "plt.figure(figsize=(14, 7))\n",
    "monthly_injuries.plot(kind='line', color='skyblue', marker='o')\n",
    "plt.title('Monthly Count of Injuries (Jan 2013 - Dec 2023)')\n",
    "plt.xlabel('Year-Month')\n",
    "plt.ylabel('Number of Injuries')\n",
    "plt.grid(True)\n",
    "plt.xticks(rotation=0)\n",
    "plt.tight_layout()\n",
    "\n",
    "# Adding numbers on the line chart for injuries\n",
    "for i, value in enumerate(monthly_injuries):\n",
    "    plt.text(monthly_injuries.index[i].to_timestamp(), value, f'{value:.0f}', ha='right', va='bottom', fontsize=8)\n",
    "\n",
    "plt.show()\n",
    "\n",
    "# Plotting monthly deaths\n",
    "plt.figure(figsize=(14, 7))\n",
    "monthly_deaths.plot(kind='line', color='salmon', marker='o')\n",
    "plt.title('Monthly Count of Deaths (Jan 2013 - Dec 2023)')\n",
    "plt.xlabel('Year-Month')\n",
    "plt.ylabel('Number of Deaths')\n",
    "plt.grid(True)\n",
    "plt.xticks(rotation=0)\n",
    "plt.tight_layout()\n",
    "\n",
    "# Adding numbers on the line chart for deaths\n",
    "for i, value in enumerate(monthly_deaths):\n",
    "    plt.text(monthly_deaths.index[i].to_timestamp(), value, f'{value:.0f}', ha='right', va='bottom', fontsize=8)\n",
    "\n",
    "plt.show()"
   ]
  },
  {
   "cell_type": "code",
   "execution_count": 0,
   "metadata": {
    "application/vnd.databricks.v1+cell": {
     "cellMetadata": {},
     "inputWidgets": {},
     "nuid": "b613fc51-a759-4ca5-906a-91a5fab230db",
     "showTitle": false,
     "tableResultSettingsMap": {},
     "title": ""
    }
   },
   "outputs": [],
   "source": [
    "# Group data by Year and Borough and calculate sums\n",
    "grouped_data = nyc_data.groupby(['Year', 'BOROUGH']).agg({'injured_flag': 'sum', 'killed_flag': 'sum'}).reset_index()\n",
    "\n",
    "# Plot line chart\n",
    "plt.figure(figsize=(10, 6))\n",
    "\n",
    "# Iterate over unique boroughs\n",
    "for borough in grouped_data['BOROUGH'].unique():\n",
    "    borough_data = grouped_data[grouped_data['BOROUGH'] == borough]\n",
    "    plt.plot(borough_data['Year'], borough_data['injured_flag'], label=f'{borough} Injuries', marker='o')\n",
    "\n",
    "plt.title('Annual Injuries by Borough')\n",
    "plt.xlabel('Year')\n",
    "plt.ylabel('Count')\n",
    "plt.legend()\n",
    "plt.grid(True)\n",
    "plt.xticks(grouped_data['Year'].unique())  # Set x-axis ticks to years\n",
    "plt.tight_layout()\n",
    "plt.show()"
   ]
  },
  {
   "cell_type": "code",
   "execution_count": 0,
   "metadata": {
    "application/vnd.databricks.v1+cell": {
     "cellMetadata": {},
     "inputWidgets": {},
     "nuid": "68986828-1fd5-4e82-8efa-528b634e9a9e",
     "showTitle": false,
     "tableResultSettingsMap": {},
     "title": ""
    }
   },
   "outputs": [],
   "source": [
    "# Group data by Year and Borough and calculate sums\n",
    "grouped_data = nyc_data.groupby(['Year', 'BOROUGH']).agg({'injured_flag': 'sum', 'killed_flag': 'sum'}).reset_index()\n",
    "\n",
    "# Plot line chart\n",
    "plt.figure(figsize=(10, 6))\n",
    "\n",
    "# Iterate over unique boroughs\n",
    "for borough in grouped_data['BOROUGH'].unique():\n",
    "    borough_data = grouped_data[grouped_data['BOROUGH'] == borough]\n",
    "    plt.plot(borough_data['Year'], borough_data['killed_flag'], label=f'{borough} Injuries', marker='o')\n",
    "\n",
    "plt.title('Annual Deaths by Borough')\n",
    "plt.xlabel('Year')\n",
    "plt.ylabel('Count')\n",
    "plt.legend()\n",
    "plt.grid(True)\n",
    "plt.xticks(grouped_data['Year'].unique())  # Set x-axis ticks to years\n",
    "plt.tight_layout()\n",
    "plt.show()"
   ]
  },
  {
   "cell_type": "code",
   "execution_count": 0,
   "metadata": {
    "application/vnd.databricks.v1+cell": {
     "cellMetadata": {},
     "inputWidgets": {},
     "nuid": "b421c6af-3d35-48a6-9abb-095653cebab8",
     "showTitle": false,
     "tableResultSettingsMap": {},
     "title": ""
    }
   },
   "outputs": [],
   "source": []
  },
  {
   "cell_type": "code",
   "execution_count": 0,
   "metadata": {
    "application/vnd.databricks.v1+cell": {
     "cellMetadata": {},
     "inputWidgets": {},
     "nuid": "53560be4-9bd3-4a44-8c7b-00c77683412b",
     "showTitle": false,
     "tableResultSettingsMap": {},
     "title": ""
    }
   },
   "outputs": [],
   "source": []
  },
  {
   "cell_type": "code",
   "execution_count": 0,
   "metadata": {
    "application/vnd.databricks.v1+cell": {
     "cellMetadata": {},
     "inputWidgets": {},
     "nuid": "d7323c60-c9d0-4687-bb46-2f549051760f",
     "showTitle": false,
     "tableResultSettingsMap": {},
     "title": ""
    }
   },
   "outputs": [],
   "source": [
    "# Filter data for killed_flag and injured_flag\n",
    "killed_data = nyc_data[nyc_data['killed_flag'] == 1]\n",
    "injured_data = nyc_data[nyc_data['injured_flag'] == 1]\n",
    "\n",
    "# Group the data by day of the week and hour\n",
    "grouped_killed = killed_data.groupby(['day_of_week', 'hour']).size().reset_index(name='count')\n",
    "grouped_injured = injured_data.groupby(['day_of_week', 'hour']).size().reset_index(name='count')\n",
    "\n",
    "# Create the treemap for killed_flag\n",
    "fig_killed = px.treemap(grouped_killed, \n",
    "                        path=['day_of_week', 'hour'], \n",
    "                        values='count',\n",
    "                        color='count',\n",
    "                        color_continuous_scale='Reds',\n",
    "                        title='Treemap of Collisions Resulting in Death by Day of Week and Hour')\n",
    "\n",
    "fig_killed.update_layout(margin=dict(t=50, l=25, r=25, b=25))\n",
    "\n",
    "# Create the treemap for injured_flag\n",
    "fig_injured = px.treemap(grouped_injured, \n",
    "                         path=['day_of_week', 'hour'], \n",
    "                         values='count',\n",
    "                         color='count',\n",
    "                         color_continuous_scale='Blues',\n",
    "                         title='Treemap of Collisions Resulting in Injury by Day of Week and Hour')\n",
    "\n",
    "fig_injured.update_layout(margin=dict(t=50, l=25, r=25, b=25))\n",
    "\n",
    "# Show the treemaps\n",
    "fig_killed.show()\n",
    "fig_injured.show()"
   ]
  },
  {
   "cell_type": "code",
   "execution_count": 0,
   "metadata": {
    "application/vnd.databricks.v1+cell": {
     "cellMetadata": {},
     "inputWidgets": {},
     "nuid": "be234ab5-c1a9-4a38-b27e-d9b6782d6388",
     "showTitle": false,
     "tableResultSettingsMap": {},
     "title": ""
    }
   },
   "outputs": [],
   "source": [
    "# Order days of the week for consistent plotting\n",
    "days_order = ['Monday', 'Tuesday', 'Wednesday', 'Thursday', 'Friday', 'Saturday', 'Sunday']\n",
    "hours = range(24)\n",
    "\n",
    "# Create pivot tables for killed_flag and injured_flag, and reindex them\n",
    "killed_pivot = nyc_data[nyc_data['killed_flag'] == 1].pivot_table(\n",
    "    index='hour', columns='day_of_week', values='COLLISION_ID', aggfunc='count', fill_value=0\n",
    ").reindex(index=hours, columns=days_order, fill_value=0)\n",
    "\n",
    "injured_pivot = nyc_data[nyc_data['injured_flag'] == 1].pivot_table(\n",
    "    index='hour', columns='day_of_week', values='COLLISION_ID', aggfunc='count', fill_value=0\n",
    ").reindex(index=hours, columns=days_order, fill_value=0)\n",
    "\n",
    "# Plot the heatmap for killed_flag\n",
    "plt.figure(figsize=(14, 7))\n",
    "ax1 = sns.heatmap(killed_pivot.T, cmap='Reds', annot=True, fmt='d', linewidths=.5, cbar_kws={'label': 'Number of Collisions'})\n",
    "ax1.set_title('Heatmap of Collisions Resulting in Death by Hour and Day of Week')\n",
    "ax1.set_xlabel('Hour of Day')\n",
    "ax1.set_ylabel('Day of Week')\n",
    "ax1.set_xticklabels(ax1.get_xticklabels(), rotation=0)\n",
    "ax1.set_yticklabels(ax1.get_yticklabels(), rotation=0)\n",
    "plt.show()\n",
    "\n",
    "# Plot the heatmap for injured_flag\n",
    "plt.figure(figsize=(14, 7))\n",
    "ax2 = sns.heatmap(injured_pivot.T, cmap='Blues', annot=True, fmt='d', linewidths=.5, cbar_kws={'label': 'Number of Collisions'})\n",
    "ax2.set_title('Heatmap of Collisions Resulting in Injury by Hour and Day of Week')\n",
    "ax2.set_xlabel('Hour of Day')\n",
    "ax2.set_ylabel('Day of Week')\n",
    "ax2.set_xticklabels(ax2.get_xticklabels(), rotation=0)\n",
    "ax2.set_yticklabels(ax2.get_yticklabels(), rotation=0)\n",
    "plt.show()"
   ]
  },
  {
   "cell_type": "code",
   "execution_count": 0,
   "metadata": {
    "application/vnd.databricks.v1+cell": {
     "cellMetadata": {},
     "inputWidgets": {},
     "nuid": "52e01990-90ac-40c6-9b73-4dd02b7f90f6",
     "showTitle": false,
     "tableResultSettingsMap": {},
     "title": ""
    }
   },
   "outputs": [],
   "source": [
    "# Pivot the DataFrame based on 'time_category' and 'day_of_week', and aggregate counts of 'killed_flag' and 'injured_flag'\n",
    "heatmap_data_killed = nyc_data.pivot_table(index='time_category', columns='day_of_week', values='killed_flag', aggfunc='sum', fill_value=0)\n",
    "heatmap_data_injured = nyc_data.pivot_table(index='time_category', columns='day_of_week', values='injured_flag', aggfunc='sum', fill_value=0)\n",
    "\n",
    "# Reorder the rows based on the time categories\n",
    "time_category_order = ['Morning', 'Afternoon', 'Evening', 'Night']\n",
    "heatmap_data_killed = heatmap_data_killed.reindex(time_category_order)\n",
    "heatmap_data_injured = heatmap_data_injured.reindex(time_category_order)\n",
    "\n",
    "# Order days of the week for consistent plotting\n",
    "days_order = ['Monday', 'Tuesday', 'Wednesday', 'Thursday', 'Friday', 'Saturday', 'Sunday']\n",
    "\n",
    "# Plot the heatmap for killed_flag\n",
    "plt.figure(figsize=(10, 6))\n",
    "sns.heatmap(heatmap_data_killed, cmap='Reds', annot=True, fmt='d', linewidths=.5, xticklabels=days_order)\n",
    "plt.title('Heatmap of Collisions Resulting in Death by Time of Day and Day of Week')\n",
    "plt.xlabel('Day of Week')\n",
    "plt.ylabel('Time of Day')\n",
    "plt.show()\n",
    "\n",
    "# Plot the heatmap for injured_flag\n",
    "plt.figure(figsize=(10, 6))\n",
    "sns.heatmap(heatmap_data_injured, cmap='Blues', annot=True, fmt='d', linewidths=.5, xticklabels=days_order)\n",
    "plt.title('Heatmap of Collisions Resulting in Injury by Time of Day and Day of Week')\n",
    "plt.xlabel('Day of Week')\n",
    "plt.ylabel('Time of Day')\n",
    "plt.show()"
   ]
  },
  {
   "cell_type": "code",
   "execution_count": 0,
   "metadata": {
    "application/vnd.databricks.v1+cell": {
     "cellMetadata": {},
     "inputWidgets": {},
     "nuid": "ecf34918-2ff9-4daa-9770-23bbeed9dd31",
     "showTitle": false,
     "tableResultSettingsMap": {},
     "title": ""
    }
   },
   "outputs": [],
   "source": [
    "# Create pivot tables for killed_flag and injured_flag\n",
    "killed_pivot = nyc_data.pivot_table(\n",
    "    index='FACTOR VEHICLE 1 CATEGORY',\n",
    "    columns='FACTOR VEHICLE 2 CATEGORY',\n",
    "    values='killed_flag',\n",
    "    aggfunc='sum',\n",
    "    fill_value=0\n",
    ")\n",
    "\n",
    "injured_pivot = nyc_data.pivot_table(\n",
    "    index='FACTOR VEHICLE 1 CATEGORY',\n",
    "    columns='FACTOR VEHICLE 2 CATEGORY',\n",
    "    values='injured_flag',\n",
    "    aggfunc='sum',\n",
    "    fill_value=0\n",
    ")\n",
    "\n",
    "# Plotting the heatmaps with adjusted font size and grid size\n",
    "fig, axes = plt.subplots(1, 2, figsize=(20, 10))\n",
    "\n",
    "sns.heatmap(killed_pivot, ax=axes[0], annot=True, fmt=\"d\", cmap=\"Reds\", cbar=False, annot_kws={\"size\": 18}, linewidths=.5)\n",
    "axes[0].set_title('Heatmap of Killed Flag Counts', fontsize=24)\n",
    "axes[0].set_xlabel('Vehicle 2 Factor Category', fontsize=20)\n",
    "axes[0].set_ylabel('Vehicle 1 Factor Category', fontsize=20)\n",
    "axes[0].tick_params(axis='both', which='major', labelsize=22)\n",
    "\n",
    "sns.heatmap(injured_pivot, ax=axes[1], annot=True, fmt=\"d\", cmap=\"Blues\", cbar=False, annot_kws={\"size\": 18}, linewidths=.5)\n",
    "axes[1].set_title('Heatmap of Injured Flag Counts', fontsize=24)\n",
    "axes[1].set_xlabel('Vehicle 2 Factor Category', fontsize=20)\n",
    "axes[1].set_ylabel('Vehicle 1 Factor Category', fontsize=20)\n",
    "axes[1].tick_params(axis='both', which='major', labelsize=22)\n",
    "\n",
    "plt.tight_layout()\n",
    "plt.show()"
   ]
  },
  {
   "cell_type": "code",
   "execution_count": 0,
   "metadata": {
    "application/vnd.databricks.v1+cell": {
     "cellMetadata": {},
     "inputWidgets": {},
     "nuid": "80be4a8b-5170-4e43-8abc-001eb57d7eea",
     "showTitle": false,
     "tableResultSettingsMap": {},
     "title": ""
    }
   },
   "outputs": [],
   "source": [
    "# Pivot table for killed_flag\n",
    "killed_pivot = nyc_data.pivot_table(\n",
    "    index='weekend',\n",
    "    columns='BOROUGH',\n",
    "    values='killed_flag',\n",
    "    aggfunc='sum',\n",
    "    fill_value=0\n",
    ")\n",
    "\n",
    "# Pivot table for injured_flag\n",
    "injured_pivot = nyc_data.pivot_table(\n",
    "    index='weekend',\n",
    "    columns='BOROUGH',\n",
    "    values='injured_flag',\n",
    "    aggfunc='sum',\n",
    "    fill_value=0\n",
    ")\n",
    "\n",
    "# Plotting the heatmaps\n",
    "fig, axes = plt.subplots(1, 2, figsize=(20, 10))\n",
    "\n",
    "sns.heatmap(killed_pivot, ax=axes[0], annot=True, fmt=\"d\", cmap=\"Reds\")\n",
    "axes[0].set_title('Heatmap of Killed Flag Counts')\n",
    "axes[0].set_xlabel('BOROUGH')\n",
    "axes[0].set_ylabel('Weekend Flag')\n",
    "\n",
    "sns.heatmap(injured_pivot, ax=axes[1], annot=True, fmt=\"d\", cmap=\"Blues\")\n",
    "axes[1].set_title('Heatmap of Injured Flag Counts')\n",
    "axes[1].set_xlabel('BOROUGH')\n",
    "axes[1].set_ylabel('Weekend Flag')\n",
    "\n",
    "plt.tight_layout()\n",
    "plt.show()"
   ]
  },
  {
   "cell_type": "code",
   "execution_count": 0,
   "metadata": {
    "application/vnd.databricks.v1+cell": {
     "cellMetadata": {},
     "inputWidgets": {},
     "nuid": "ce80e0ac-e76f-4a71-ac2f-2057615dec07",
     "showTitle": false,
     "tableResultSettingsMap": {},
     "title": ""
    }
   },
   "outputs": [],
   "source": [
    "# Create pivot tables for killed_flag and injured_flag\n",
    "killed_pivot = nyc_data.pivot_table(\n",
    "    index='time_category',\n",
    "    columns='BOROUGH',\n",
    "    values='killed_flag',\n",
    "    aggfunc='sum',\n",
    "    fill_value=0\n",
    ")\n",
    "\n",
    "injured_pivot = nyc_data.pivot_table(\n",
    "    index='time_category',\n",
    "    columns='BOROUGH',\n",
    "    values='injured_flag',\n",
    "    aggfunc='sum',\n",
    "    fill_value=0\n",
    ")\n",
    "\n",
    "# Reorder the rows based on the time categories\n",
    "time_category_order = ['Morning', 'Afternoon', 'Evening', 'Night']\n",
    "killed_pivot = killed_pivot.reindex(time_category_order)\n",
    "injured_pivot = injured_pivot.reindex(time_category_order)\n",
    "\n",
    "# Plotting the heatmaps with adjusted font size and grid size\n",
    "fig, axes = plt.subplots(1, 2, figsize=(20, 10))\n",
    "\n",
    "sns.heatmap(killed_pivot, ax=axes[0], annot=True, fmt=\"d\", cmap=\"Reds\", cbar=False, annot_kws={\"size\": 12}, linewidths=.5)\n",
    "axes[0].set_title('Heatmap of Killed Flag Counts', fontsize=16)\n",
    "axes[0].set_xlabel('BOROUGH', fontsize=14)\n",
    "axes[0].set_ylabel('Time Category', fontsize=14)\n",
    "axes[0].tick_params(axis='both', which='major', labelsize=14)\n",
    "\n",
    "sns.heatmap(injured_pivot, ax=axes[1], annot=True, fmt=\"d\", cmap=\"Blues\", cbar=False, annot_kws={\"size\": 12}, linewidths=.5)\n",
    "axes[1].set_title('Heatmap of Injured Flag Counts', fontsize=16)\n",
    "axes[1].set_xlabel('BOROUGH', fontsize=14)\n",
    "axes[1].set_ylabel('Time Category', fontsize=14)\n",
    "axes[1].tick_params(axis='both', which='major', labelsize=14)\n",
    "\n",
    "plt.tight_layout()\n",
    "plt.show()"
   ]
  },
  {
   "cell_type": "code",
   "execution_count": 0,
   "metadata": {
    "application/vnd.databricks.v1+cell": {
     "cellMetadata": {},
     "inputWidgets": {},
     "nuid": "57af3451-c731-4373-ac58-73ff2ee12b45",
     "showTitle": false,
     "tableResultSettingsMap": {},
     "title": ""
    }
   },
   "outputs": [],
   "source": [
    "# Create pivot tables for killed_flag and injured_flag\n",
    "killed_pivot = nyc_data.pivot_table(\n",
    "    index='day_of_week',\n",
    "    columns='BOROUGH',\n",
    "    values='killed_flag',\n",
    "    aggfunc='sum',\n",
    "    fill_value=0\n",
    ")\n",
    "\n",
    "injured_pivot = nyc_data.pivot_table(\n",
    "    index='day_of_week',\n",
    "    columns='BOROUGH',\n",
    "    values='injured_flag',\n",
    "    aggfunc='sum',\n",
    "    fill_value=0\n",
    ")\n",
    "\n",
    "# Reorder the rows based on the days of the week\n",
    "day_of_week_order = ['Monday', 'Tuesday', 'Wednesday', 'Thursday', 'Friday', 'Saturday', 'Sunday']\n",
    "killed_pivot = killed_pivot.reindex(day_of_week_order)\n",
    "injured_pivot = injured_pivot.reindex(day_of_week_order)\n",
    "\n",
    "# Plotting the heatmaps with adjusted font size and grid size\n",
    "fig, axes = plt.subplots(1, 2, figsize=(20, 10))\n",
    "\n",
    "sns.heatmap(killed_pivot, ax=axes[0], annot=True, fmt=\"d\", cmap=\"Reds\", cbar=False, annot_kws={\"size\": 12}, linewidths=.5)\n",
    "axes[0].set_title('Heatmap of Killed Flag Counts', fontsize=16)\n",
    "axes[0].set_xlabel('BOROUGH', fontsize=14)\n",
    "axes[0].set_ylabel('Day of Week', fontsize=14)\n",
    "axes[0].tick_params(axis='both', which='major', labelsize=14)\n",
    "\n",
    "sns.heatmap(injured_pivot, ax=axes[1], annot=True, fmt=\"d\", cmap=\"Blues\", cbar=False, annot_kws={\"size\": 12}, linewidths=.5)\n",
    "axes[1].set_title('Heatmap of Injured Flag Counts', fontsize=16)\n",
    "axes[1].set_xlabel('BOROUGH', fontsize=14)\n",
    "axes[1].set_ylabel('Day of Week', fontsize=14)\n",
    "axes[1].tick_params(axis='both', which='major', labelsize=14)\n",
    "\n",
    "plt.tight_layout()\n",
    "plt.show()"
   ]
  },
  {
   "cell_type": "code",
   "execution_count": 0,
   "metadata": {
    "application/vnd.databricks.v1+cell": {
     "cellMetadata": {},
     "inputWidgets": {},
     "nuid": "4ea2d335-5e70-430d-ab2e-cc88349e19df",
     "showTitle": false,
     "tableResultSettingsMap": {},
     "title": ""
    }
   },
   "outputs": [],
   "source": []
  },
  {
   "cell_type": "code",
   "execution_count": 0,
   "metadata": {
    "application/vnd.databricks.v1+cell": {
     "cellMetadata": {},
     "inputWidgets": {},
     "nuid": "c209bf6d-02ea-41a9-97a6-b1020f30b739",
     "showTitle": false,
     "tableResultSettingsMap": {},
     "title": ""
    }
   },
   "outputs": [],
   "source": []
  },
  {
   "cell_type": "markdown",
   "metadata": {
    "application/vnd.databricks.v1+cell": {
     "cellMetadata": {},
     "inputWidgets": {},
     "nuid": "0571f658-7412-41b6-b70c-3f20b00d99b5",
     "showTitle": false,
     "tableResultSettingsMap": {},
     "title": ""
    }
   },
   "source": [
    "## Analyzing dependent and independent variables"
   ]
  },
  {
   "cell_type": "code",
   "execution_count": 0,
   "metadata": {
    "application/vnd.databricks.v1+cell": {
     "cellMetadata": {},
     "inputWidgets": {},
     "nuid": "d8a82c24-cfb3-4135-ba7d-97ca008a2768",
     "showTitle": false,
     "tableResultSettingsMap": {},
     "title": ""
    }
   },
   "outputs": [],
   "source": [
    "# Calculate total record count\n",
    "total_count = len(nyc_data)\n",
    "\n",
    "# Calculate the injured count and percent\n",
    "injured_event_count = len(nyc_data[nyc_data['injured_flag'] == 1])\n",
    "injured_event_percent = len(nyc_data[nyc_data['injured_flag'] == 1])*100/len(nyc_data)\n",
    "\n",
    "# Calculate the killed count and percent\n",
    "killed_event_count = len(nyc_data[nyc_data['killed_flag'] == 1])\n",
    "killed_event_percent = len(nyc_data[nyc_data['killed_flag'] == 1])*100/len(nyc_data)\n",
    "\n",
    "# Combine the results into a single DataFrame\n",
    "summary_table = pd.DataFrame({\n",
    "    'Total Count': [total_count],\n",
    "    'Injured Count': [injured_event_count],\n",
    "    'Injured Percent': [injured_event_percent],\n",
    "    'Killed Count': [killed_event_count],\n",
    "    'Killed Percent': [killed_event_percent]\n",
    "})\n",
    "summary_table"
   ]
  },
  {
   "cell_type": "code",
   "execution_count": 0,
   "metadata": {
    "application/vnd.databricks.v1+cell": {
     "cellMetadata": {},
     "inputWidgets": {},
     "nuid": "7049f6d1-4b13-4e45-a0c4-fe5ddc1e8666",
     "showTitle": false,
     "tableResultSettingsMap": {},
     "title": ""
    }
   },
   "outputs": [],
   "source": [
    "# Group by 'time_category'\n",
    "grouped_data = nyc_data.groupby('time_category')\n",
    "\n",
    "# Calculate total record count\n",
    "total_count = grouped_data['COLLISION_ID'].count()\n",
    "\n",
    "# Calculate the injured count and percent for each time category\n",
    "injured_event_counts = grouped_data['injured_flag'].sum()\n",
    "injured_event_percentages = injured_event_counts * 100 / total_count\n",
    "\n",
    "# Calculate the killed count and percent for each time category\n",
    "killed_event_counts = grouped_data['killed_flag'].sum()\n",
    "killed_event_percentages = killed_event_counts * 100 / total_count\n",
    "\n",
    "# Combine the results into a single DataFrame\n",
    "summary_table = pd.DataFrame({\n",
    "    'Time Category': grouped_data.groups.keys(),\n",
    "    'Total Count': total_count,\n",
    "    'Injured Count': injured_event_counts,\n",
    "    'Injured Percent': injured_event_percentages,\n",
    "    'Killed Count': killed_event_counts,\n",
    "    'Killed Percent': killed_event_percentages\n",
    "})\n",
    "\n",
    "summary_table.reset_index(drop=True, inplace=True)  # Reset index for better visualization\n",
    "summary_table"
   ]
  },
  {
   "cell_type": "code",
   "execution_count": 0,
   "metadata": {
    "application/vnd.databricks.v1+cell": {
     "cellMetadata": {},
     "inputWidgets": {},
     "nuid": "e7830558-c8ed-44d0-b99b-3df200e5111b",
     "showTitle": false,
     "tableResultSettingsMap": {},
     "title": ""
    }
   },
   "outputs": [],
   "source": [
    "grouped_counts = nyc_data.groupby(['killed_flag', 'injured_flag']).size().reset_index(name='count')\n",
    "\n",
    "# Print the grouped counts\n",
    "print(grouped_counts)"
   ]
  },
  {
   "cell_type": "code",
   "execution_count": 0,
   "metadata": {
    "application/vnd.databricks.v1+cell": {
     "cellMetadata": {},
     "inputWidgets": {},
     "nuid": "4e49b6a7-7646-4c13-b34a-da2af2562ad7",
     "showTitle": false,
     "tableResultSettingsMap": {},
     "title": ""
    }
   },
   "outputs": [],
   "source": [
    "# Create the any_Casualty field\n",
    "nyc_data['any_casualty_flag'] = ((nyc_data['killed_flag'] == 1) | (nyc_data['injured_flag'] == 1)).astype(int)\n"
   ]
  },
  {
   "cell_type": "code",
   "execution_count": 0,
   "metadata": {
    "application/vnd.databricks.v1+cell": {
     "cellMetadata": {},
     "inputWidgets": {},
     "nuid": "9400500f-9a43-4460-a161-97a5ab4532cd",
     "showTitle": false,
     "tableResultSettingsMap": {},
     "title": ""
    }
   },
   "outputs": [],
   "source": [
    "grouped_counts = nyc_data.groupby(['killed_flag', 'injured_flag','any_casualty_flag']).size().reset_index(name='count')\n",
    "\n",
    "# Print the grouped counts\n",
    "print(grouped_counts)"
   ]
  },
  {
   "cell_type": "markdown",
   "metadata": {
    "application/vnd.databricks.v1+cell": {
     "cellMetadata": {},
     "inputWidgets": {},
     "nuid": "31d775c3-3840-4c16-b373-656781edcd8e",
     "showTitle": false,
     "tableResultSettingsMap": {},
     "title": ""
    }
   },
   "source": [
    "# Data Prep for Logistic Regression Model"
   ]
  },
  {
   "cell_type": "code",
   "execution_count": 0,
   "metadata": {
    "application/vnd.databricks.v1+cell": {
     "cellMetadata": {},
     "inputWidgets": {},
     "nuid": "3ce44fd7-7af0-47ad-93fd-e21ee974c87c",
     "showTitle": false,
     "tableResultSettingsMap": {},
     "title": ""
    }
   },
   "outputs": [],
   "source": [
    "nyc_data.head()"
   ]
  },
  {
   "cell_type": "code",
   "execution_count": 0,
   "metadata": {
    "application/vnd.databricks.v1+cell": {
     "cellMetadata": {},
     "inputWidgets": {},
     "nuid": "089e05b0-7b97-4c55-ba35-ced925186a1b",
     "showTitle": false,
     "tableResultSettingsMap": {},
     "title": ""
    }
   },
   "outputs": [],
   "source": [
    "nyc_data['CRASH DATE'].min()"
   ]
  },
  {
   "cell_type": "code",
   "execution_count": 0,
   "metadata": {
    "application/vnd.databricks.v1+cell": {
     "cellMetadata": {},
     "inputWidgets": {},
     "nuid": "621a1b8f-d344-46b2-b378-d3e630e37160",
     "showTitle": false,
     "tableResultSettingsMap": {},
     "title": ""
    }
   },
   "outputs": [],
   "source": [
    "nyc_data['CRASH DATE'].max()"
   ]
  },
  {
   "cell_type": "code",
   "execution_count": 0,
   "metadata": {
    "application/vnd.databricks.v1+cell": {
     "cellMetadata": {},
     "inputWidgets": {},
     "nuid": "bc713798-4b05-45c5-8fec-38451dcb6a87",
     "showTitle": false,
     "tableResultSettingsMap": {},
     "title": ""
    }
   },
   "outputs": [],
   "source": [
    "# Create dummy variables\n",
    "dummies_borough = pd.get_dummies(nyc_data['BOROUGH'], prefix='BOROUGH')\n",
    "dummies_factor1 = pd.get_dummies(nyc_data['CONTRIBUTING FACTOR VEHICLE 1'], prefix='FACTOR1')\n",
    "dummies_factor2 = pd.get_dummies(nyc_data['CONTRIBUTING FACTOR VEHICLE 2'], prefix='FACTOR2')\n",
    "dummies_day_of_week = pd.get_dummies(nyc_data['day_of_week'], prefix='DAY')\n",
    "dummies_time_category = pd.get_dummies(nyc_data['time_category'], prefix='TIME')\n",
    "dummies_factor_cat1 = pd.get_dummies(nyc_data['FACTOR VEHICLE 1 CATEGORY'], prefix='FACTORCAT1')\n",
    "dummies_factor_cat2 = pd.get_dummies(nyc_data['FACTOR VEHICLE 2 CATEGORY'], prefix='FACTORCAT2')\n",
    "dummies_year = pd.get_dummies(nyc_data['Year'], prefix='YEAR')\n",
    "dummies_month = pd.get_dummies(nyc_data['Month'], prefix='Month')\n",
    "\n",
    "# Combine the dummy variables with the original DataFrame\n",
    "nyc_data_with_dummies = pd.concat([nyc_data, dummies_borough, dummies_factor1, dummies_factor2, dummies_day_of_week, dummies_time_category, dummies_factor_cat1, dummies_factor_cat2, dummies_year, dummies_month], axis=1)\n",
    "\n",
    "# Drop the original categorical columns\n",
    "nyc_data_with_dummies.drop(['BOROUGH','CONTRIBUTING FACTOR VEHICLE 1', 'CONTRIBUTING FACTOR VEHICLE 2','day_of_week','time_category','FACTOR VEHICLE 1 CATEGORY','FACTOR VEHICLE 2 CATEGORY', 'Year', 'Month'], axis=1, inplace=True)\n",
    "\n",
    "# Optionally, drop one of the dummy variables for each factor to avoid multicollinearity (dummy variable trap)\n",
    "nyc_data_with_dummies.drop(['BOROUGH_BRONX','FACTOR1_accelerator defective', 'FACTOR2_accelerator defective','DAY_Monday','TIME_Morning', 'FACTORCAT1_Unknown','FACTORCAT2_Unknown', 'YEAR_2012', 'Month_1'], axis=1, inplace=True)\n",
    "\n",
    "nyc_data_with_dummies.dtypes"
   ]
  },
  {
   "cell_type": "markdown",
   "metadata": {
    "application/vnd.databricks.v1+cell": {
     "cellMetadata": {},
     "inputWidgets": {},
     "nuid": "678ddb7e-a2b0-42fc-837e-13407094d39e",
     "showTitle": false,
     "tableResultSettingsMap": {},
     "title": ""
    }
   },
   "source": [
    "## Isolate X & Y"
   ]
  },
  {
   "cell_type": "code",
   "execution_count": 0,
   "metadata": {
    "application/vnd.databricks.v1+cell": {
     "cellMetadata": {},
     "inputWidgets": {},
     "nuid": "faf2caa8-230c-4837-a7cd-7a8b1bdc4bbe",
     "showTitle": false,
     "tableResultSettingsMap": {},
     "title": ""
    }
   },
   "outputs": [],
   "source": [
    "Y = nyc_data_with_dummies.loc[:,'any_casualty_flag'].values"
   ]
  },
  {
   "cell_type": "code",
   "execution_count": 0,
   "metadata": {
    "application/vnd.databricks.v1+cell": {
     "cellMetadata": {},
     "inputWidgets": {},
     "nuid": "2900ca91-09a6-4f27-ab7b-c39c2213b261",
     "showTitle": false,
     "tableResultSettingsMap": {},
     "title": ""
    }
   },
   "outputs": [],
   "source": [
    "#First Model using Weekday columns\n",
    "X = nyc_data_with_dummies.loc[:,['DAY_Friday','DAY_Saturday', 'DAY_Sunday','DAY_Thursday','DAY_Tuesday','DAY_Wednesday']].values\n",
    "\n",
    "# Convert boolean columns to integers using NumPy operations\n",
    "X = X.astype(int)  # Assuming all values are already boolean or integer\n",
    "\n",
    "# Add a constant column for the intercept term\n",
    "X = sm.add_constant(X)\n",
    "\n",
    "#Run Logistic Regression model\n",
    "model_weekday = sm.Logit(Y, X).fit()\n",
    "\n",
    "#Model Summary Output\n",
    "model_weekday.summary(yname='any_casualty_flag',\n",
    "              xname=('constant','DAY_Friday','DAY_Saturday', 'DAY_Sunday','DAY_Thursday','DAY_Tuesday','DAY_Wednesday'),\n",
    "              title = 'Impact of Weekday on Casualty - model Weekday')"
   ]
  },
  {
   "cell_type": "code",
   "execution_count": 0,
   "metadata": {
    "application/vnd.databricks.v1+cell": {
     "cellMetadata": {},
     "inputWidgets": {},
     "nuid": "31dd9687-1b1a-461b-81ee-19836a5b013e",
     "showTitle": false,
     "tableResultSettingsMap": {},
     "title": ""
    }
   },
   "outputs": [],
   "source": [
    "#Second Model using Time Category columns\n",
    "X = nyc_data_with_dummies.loc[:,['TIME_Afternoon','TIME_Evening','TIME_Night']].values\n",
    "\n",
    "# Convert boolean columns to integers using NumPy operations\n",
    "X = X.astype(int)  # Assuming all values are already boolean or integer\n",
    "\n",
    "# Add a constant column for the intercept term\n",
    "X = sm.add_constant(X)\n",
    "\n",
    "#Run Logistic Regression model\n",
    "model_time_cat = sm.Logit(Y, X).fit()\n",
    "\n",
    "#Model Summary Output\n",
    "model_time_cat.summary(yname='any_casualty_flag',\n",
    "              xname=('constant','TIME_Afternoon','TIME_Evening','TIME_Night'),\n",
    "              title = 'Model Time Category')"
   ]
  },
  {
   "cell_type": "code",
   "execution_count": 0,
   "metadata": {
    "application/vnd.databricks.v1+cell": {
     "cellMetadata": {},
     "inputWidgets": {},
     "nuid": "05378c1d-8674-42d8-ae82-367506cabefb",
     "showTitle": false,
     "tableResultSettingsMap": {},
     "title": ""
    }
   },
   "outputs": [],
   "source": [
    "#Third Model using Factor 1 Category columns\n",
    "X = nyc_data_with_dummies.loc[:,['FACTORCAT1_Environmental','FACTORCAT1_Human','FACTORCAT1_Vehicular']].values\n",
    "\n",
    "# Convert boolean columns to integers using NumPy operations\n",
    "X = X.astype(int)  # Assuming all values are already boolean or integer\n",
    "\n",
    "# Add a constant column for the intercept term\n",
    "X = sm.add_constant(X)\n",
    "\n",
    "#Run Logistic Regression model\n",
    "model_factor1_cat = sm.Logit(Y, X).fit()\n",
    "\n",
    "#Model Summary Output\n",
    "model_factor1_cat.summary(yname='any_casualty_flag',\n",
    "              xname=('constant','FACTORCAT1_Environmental','FACTORCAT1_Human','FACTORCAT1_Vehicular'),\n",
    "              title = 'Model Factor1 Category')"
   ]
  },
  {
   "cell_type": "code",
   "execution_count": 0,
   "metadata": {
    "application/vnd.databricks.v1+cell": {
     "cellMetadata": {},
     "inputWidgets": {},
     "nuid": "9758a5e8-3e0a-4a52-b488-b5337b22d5ae",
     "showTitle": false,
     "tableResultSettingsMap": {},
     "title": ""
    }
   },
   "outputs": [],
   "source": [
    "#Fourth Model using Factor 2 Category columns\n",
    "X = nyc_data_with_dummies.loc[:,['FACTORCAT2_Environmental','FACTORCAT2_Human','FACTORCAT2_Vehicular']].values\n",
    "\n",
    "# Convert boolean columns to integers using NumPy operations\n",
    "X = X.astype(int)  # Assuming all values are already boolean or integer\n",
    "\n",
    "# Add a constant column for the intercept term\n",
    "X = sm.add_constant(X)\n",
    "\n",
    "#Run Logistic Regression model\n",
    "model_factor2_cat = sm.Logit(Y, X).fit()\n",
    "\n",
    "#Model Summary Output\n",
    "model_factor2_cat.summary(yname='any_casualty_flag',\n",
    "              xname=('constant','FACTORCAT2_Environmental','FACTORCAT2_Human','FACTORCAT2_Vehicular'),\n",
    "              title = 'Model Factor2 Category')"
   ]
  },
  {
   "cell_type": "code",
   "execution_count": 0,
   "metadata": {
    "application/vnd.databricks.v1+cell": {
     "cellMetadata": {},
     "inputWidgets": {},
     "nuid": "3c429aa2-9ec1-48f8-a1a0-3b4b2028a2fd",
     "showTitle": false,
     "tableResultSettingsMap": {},
     "title": ""
    }
   },
   "outputs": [],
   "source": [
    "#Fifth Model using Factor 1&2 Category columns\n",
    "X = nyc_data_with_dummies.loc[:,['FACTORCAT1_Environmental','FACTORCAT1_Human','FACTORCAT1_Vehicular','FACTORCAT2_Environmental','FACTORCAT2_Human','FACTORCAT2_Vehicular']].values\n",
    "\n",
    "# Convert boolean columns to integers using NumPy operations\n",
    "X = X.astype(int)  # Assuming all values are already boolean or integer\n",
    "\n",
    "# Add a constant column for the intercept term\n",
    "X = sm.add_constant(X)\n",
    "\n",
    "#Run Logistic Regression model\n",
    "model_factor12_cat = sm.Logit(Y, X).fit()\n",
    "\n",
    "#Model Summary Output\n",
    "model_factor12_cat.summary(yname='any_casualty_flag',\n",
    "              xname=('constant','FACTORCAT1_Environmental','FACTORCAT1_Human','FACTORCAT1_Vehicular','FACTORCAT2_Environmental','FACTORCAT2_Human','FACTORCAT2_Vehicular'),\n",
    "              title = 'Model Factor1&2 Category')"
   ]
  },
  {
   "cell_type": "code",
   "execution_count": 0,
   "metadata": {
    "application/vnd.databricks.v1+cell": {
     "cellMetadata": {},
     "inputWidgets": {},
     "nuid": "701b93db-9470-47a8-b5e1-710e723621ba",
     "showTitle": false,
     "tableResultSettingsMap": {},
     "title": ""
    }
   },
   "outputs": [],
   "source": [
    "#Sixth Model using Borough, Factor 1&2 Category columns\n",
    "X = nyc_data_with_dummies.loc[:,['BOROUGH_BROOKLYN','BOROUGH_MANHATTAN','BOROUGH_QUEENS','BOROUGH_STATEN ISLAND','FACTORCAT1_Environmental','FACTORCAT1_Human','FACTORCAT2_Human','FACTORCAT2_Vehicular']].values\n",
    "\n",
    "# Convert boolean columns to integers using NumPy operations\n",
    "X = X.astype(int)  # Assuming all values are already boolean or integer\n",
    "\n",
    "# Add a constant column for the intercept term\n",
    "X = sm.add_constant(X)\n",
    "\n",
    "#Run Logistic Regression model\n",
    "model_Bfactor12_cat = sm.Logit(Y, X).fit()\n",
    "\n",
    "#Model Summary Output\n",
    "model_Bfactor12_cat.summary(yname='any_casualty_flag',\n",
    "              xname=('constant','BOROUGH_BROOKLYN','BOROUGH_MANHATTAN','BOROUGH_QUEENS','BOROUGH_STATEN ISLAND','FACTORCAT1_Environmental','FACTORCAT1_Human','FACTORCAT2_Human','FACTORCAT2_Vehicular'),\n",
    "              title = 'Model Borough, Factor1&2 Category')"
   ]
  },
  {
   "cell_type": "code",
   "execution_count": 0,
   "metadata": {
    "application/vnd.databricks.v1+cell": {
     "cellMetadata": {},
     "inputWidgets": {},
     "nuid": "c37234be-6865-4a29-8b47-253c3fcf2f83",
     "showTitle": false,
     "tableResultSettingsMap": {},
     "title": ""
    }
   },
   "outputs": [],
   "source": [
    "#Seventh Model using Time Catagories, Borough, Factor 1&2 Category columns\n",
    "X = nyc_data_with_dummies.loc[:,['TIME_Afternoon','TIME_Evening','TIME_Night','BOROUGH_BROOKLYN','BOROUGH_MANHATTAN','BOROUGH_QUEENS','BOROUGH_STATEN ISLAND','FACTORCAT1_Environmental','FACTORCAT1_Human','FACTORCAT2_Human','FACTORCAT2_Vehicular']].values\n",
    "\n",
    "# Convert boolean columns to integers using NumPy operations\n",
    "X = X.astype(int)  # Assuming all values are already boolean or integer\n",
    "\n",
    "# Add a constant column for the intercept term\n",
    "X = sm.add_constant(X)\n",
    "\n",
    "#Run Logistic Regression model\n",
    "model_TBfactor12_cat = sm.Logit(Y, X).fit()\n",
    "\n",
    "#Model Summary Output\n",
    "model_TBfactor12_cat.summary(yname='any_casualty_flag',\n",
    "              xname=('constant','TIME_Afternoon','TIME_Evening','TIME_Night','BOROUGH_BROOKLYN','BOROUGH_MANHATTAN','BOROUGH_QUEENS','BOROUGH_STATEN ISLAND','FACTORCAT1_Environmental','FACTORCAT1_Human','FACTORCAT2_Human','FACTORCAT2_Vehicular'),\n",
    "              title = 'Model Time Categories, Borough, Factor1&2 Category')"
   ]
  },
  {
   "cell_type": "code",
   "execution_count": 0,
   "metadata": {
    "application/vnd.databricks.v1+cell": {
     "cellMetadata": {},
     "inputWidgets": {},
     "nuid": "7d7d8447-23b5-45ca-94f0-44b929633636",
     "showTitle": false,
     "tableResultSettingsMap": {},
     "title": ""
    }
   },
   "outputs": [],
   "source": [
    "#Eighth Model using Day, Time Catagories, Borough, Factor 1&2 Category columns\n",
    "X = nyc_data_with_dummies.loc[:,['DAY_Saturday', 'DAY_Wednesday','TIME_Afternoon','TIME_Evening','TIME_Night','BOROUGH_BROOKLYN','BOROUGH_MANHATTAN','BOROUGH_QUEENS','BOROUGH_STATEN ISLAND','FACTORCAT1_Environmental','FACTORCAT1_Human','FACTORCAT2_Human','FACTORCAT2_Vehicular']].values\n",
    "\n",
    "# Convert boolean columns to integers using NumPy operations\n",
    "X = X.astype(int)  # Assuming all values are already boolean or integer\n",
    "\n",
    "# Add a constant column for the intercept term\n",
    "X = sm.add_constant(X)\n",
    "\n",
    "#Run Logistic Regression model\n",
    "model_DTBfactor12_cat = sm.Logit(Y, X).fit()\n",
    "\n",
    "#Model Summary Output\n",
    "model_DTBfactor12_cat.summary(yname='any_casualty_flag',\n",
    "              xname=('constant','DAY_Saturday', 'DAY_Wednesday','TIME_Afternoon','TIME_Evening','TIME_Night','BOROUGH_BROOKLYN','BOROUGH_MANHATTAN','BOROUGH_QUEENS','BOROUGH_STATEN ISLAND','FACTORCAT1_Environmental','FACTORCAT1_Human','FACTORCAT2_Human','FACTORCAT2_Vehicular'),\n",
    "              title = 'Model Day, Time Categories, Borough, Factor1&2 Category')"
   ]
  },
  {
   "cell_type": "code",
   "execution_count": 0,
   "metadata": {
    "application/vnd.databricks.v1+cell": {
     "cellMetadata": {},
     "inputWidgets": {},
     "nuid": "9c618e6a-e1ac-4c8d-aebd-8c08dd1389ee",
     "showTitle": false,
     "tableResultSettingsMap": {},
     "title": ""
    }
   },
   "outputs": [],
   "source": [
    "#Ninth Model using Weekend, Day, Time Catagories, Borough, Factor 1&2 Category columns\n",
    "X = nyc_data_with_dummies.loc[:,['weekend','DAY_Saturday', 'DAY_Wednesday','TIME_Afternoon','TIME_Evening','TIME_Night','BOROUGH_BROOKLYN','BOROUGH_MANHATTAN','BOROUGH_QUEENS','BOROUGH_STATEN ISLAND','FACTORCAT1_Environmental','FACTORCAT1_Human','FACTORCAT2_Human','FACTORCAT2_Vehicular']].values\n",
    "\n",
    "# Convert boolean columns to integers using NumPy operations\n",
    "X = X.astype(int)  # Assuming all values are already boolean or integer\n",
    "\n",
    "# Add a constant column for the intercept term\n",
    "X = sm.add_constant(X)\n",
    "\n",
    "#Run Logistic Regression model\n",
    "model_WDTBfactor12_cat = sm.Logit(Y, X).fit()\n",
    "\n",
    "#Model Summary Output\n",
    "model_WDTBfactor12_cat.summary(yname='any_casualty_flag',\n",
    "              xname=('constant','weekend','DAY_Saturday', 'DAY_Wednesday','TIME_Afternoon','TIME_Evening','TIME_Night','BOROUGH_BROOKLYN','BOROUGH_MANHATTAN','BOROUGH_QUEENS','BOROUGH_STATEN ISLAND','FACTORCAT1_Environmental','FACTORCAT1_Human','FACTORCAT2_Human','FACTORCAT2_Vehicular'),\n",
    "              title = 'Model Weekend, Day, Time Categories, Borough, Factor1&2 Category')"
   ]
  },
  {
   "cell_type": "code",
   "execution_count": 0,
   "metadata": {
    "application/vnd.databricks.v1+cell": {
     "cellMetadata": {},
     "inputWidgets": {},
     "nuid": "8e52d347-a767-46f0-82d1-3b813add38f3",
     "showTitle": false,
     "tableResultSettingsMap": {},
     "title": ""
    }
   },
   "outputs": [],
   "source": [
    "#Tenth Model using Any Factor, Day, Time Catagories, Borough, Factor 1&2 Category columns\n",
    "X = nyc_data_with_dummies.loc[:,['any_factor_Human','DAY_Saturday', 'DAY_Wednesday','TIME_Afternoon','TIME_Evening','TIME_Night','BOROUGH_BROOKLYN','BOROUGH_MANHATTAN','BOROUGH_QUEENS','BOROUGH_STATEN ISLAND','FACTORCAT1_Environmental','FACTORCAT2_Vehicular']].values\n",
    "\n",
    "# Convert boolean columns to integers using NumPy operations\n",
    "X = X.astype(int)  # Assuming all values are already boolean or integer\n",
    "\n",
    "# Add a constant column for the intercept term\n",
    "X = sm.add_constant(X)\n",
    "\n",
    "#Run Logistic Regression model\n",
    "model_ADTBfactor12_cat = sm.Logit(Y, X).fit()\n",
    "\n",
    "#Model Summary Output\n",
    "model_ADTBfactor12_cat.summary(yname='any_casualty_flag',\n",
    "              xname=('constant','any_factor_Human','DAY_Saturday', 'DAY_Wednesday','TIME_Afternoon','TIME_Evening','TIME_Night','BOROUGH_BROOKLYN','BOROUGH_MANHATTAN','BOROUGH_QUEENS','BOROUGH_STATEN ISLAND','FACTORCAT1_Environmental','FACTORCAT2_Vehicular'),\n",
    "              title = 'Model Any Factor, Day, Time Categories, Borough, Factor1&2 Category')"
   ]
  },
  {
   "cell_type": "code",
   "execution_count": 0,
   "metadata": {
    "application/vnd.databricks.v1+cell": {
     "cellMetadata": {},
     "inputWidgets": {},
     "nuid": "003c7603-20a8-440a-93d9-0b02cb4e9b45",
     "showTitle": false,
     "tableResultSettingsMap": {},
     "title": ""
    }
   },
   "outputs": [],
   "source": [
    "'hour','weekend','any_factor_Environmental','any_factor_Human','any_factor_Vehicular','any_casualty_flag','BOROUGH_BROOKLYN','BOROUGH_MANHATTAN','BOROUGH_QUEENS','BOROUGH_STATEN ISLAND','FACTOR1_aggressive driving/road rage','FACTOR1_alcohol involvement','FACTOR1_animals action','FACTOR1_backing unsafely','FACTOR1_brakes defective','FACTOR1_cell phone (hand-held)','FACTOR1_cell phone (hands-free)','FACTOR1_driver inattention/distraction','FACTOR1_driver inexperience','FACTOR1_driverless/runaway vehicle','FACTOR1_drugs (illegal)','FACTOR1_eating or drinking','FACTOR1_failure to keep right','FACTOR1_failure to yield right-of-way','FACTOR1_fatigued/drowsy','FACTOR1_fell asleep','FACTOR1_following too closely','FACTOR1_glare','FACTOR1_headlights defective','FACTOR1_illness','FACTOR1_lane marking improper/inadequate','FACTOR1_listening/using headphones','FACTOR1_lost consciousness','FACTOR1_obstruction/debris','FACTOR1_other electronic device','FACTOR1_other lighting defects','FACTOR1_other vehicular','FACTOR1_outside car distraction','FACTOR1_oversized vehicle','FACTOR1_passenger distraction','FACTOR1_passing or lane usage improper','FACTOR1_passing too closely','FACTOR1_pavement defective','FACTOR1_pavement slippery','FACTOR1_pedestrian/bicyclist/other pedestrian error/confusion','FACTOR1_physical disability','FACTOR1_prescription medication','FACTOR1_reaction to other uninvolved vehicle','FACTOR1_reaction to uninvolved vehicle','FACTOR1_shoulders defective/improper','FACTOR1_steering failure','FACTOR1_texting','FACTOR1_tinted windows','FACTOR1_tire failure/inadequate','FACTOR1_tow hitch defective','FACTOR1_traffic control device improper/non-working','FACTOR1_traffic control disregarded','FACTOR1_turning improperly','FACTOR1_unsafe lane changing','FACTOR1_unsafe speed','FACTOR1_unspecified','FACTOR1_using on board navigation device','FACTOR1_vehicle vandalism','FACTOR1_view obstructed/limited','FACTOR1_windshield inadequate','FACTOR2_aggressive driving/road rage','FACTOR2_alcohol involvement','FACTOR2_animals action','FACTOR2_backing unsafely','FACTOR2_brakes defective','FACTOR2_cell phone (hand-held)','FACTOR2_cell phone (hands-free)','FACTOR2_driver inattention/distraction','FACTOR2_driver inexperience','FACTOR2_driverless/runaway vehicle','FACTOR2_drugs (illegal)','FACTOR2_eating or drinking','FACTOR2_failure to keep right','FACTOR2_failure to yield right-of-way','FACTOR2_fatigued/drowsy','FACTOR2_fell asleep','FACTOR2_following too closely','FACTOR2_glare','FACTOR2_headlights defective','FACTOR2_illnes','FACTOR2_illness','FACTOR2_lane marking improper/inadequate','FACTOR2_listening/using headphones','FACTOR2_lost consciousness','FACTOR2_obstruction/debris','FACTOR2_other electronic device','FACTOR2_other lighting defects','FACTOR2_other vehicular','FACTOR2_outside car distraction','FACTOR2_oversized vehicle','FACTOR2_passenger distraction','FACTOR2_passing or lane usage improper','FACTOR2_passing too closely','FACTOR2_pavement defective','FACTOR2_pavement slippery','FACTOR2_pedestrian/bicyclist/other pedestrian error/confusion','FACTOR2_physical disability','FACTOR2_prescription medication','FACTOR2_reaction to other uninvolved vehicle','FACTOR2_reaction to uninvolved vehicle','FACTOR2_shoulders defective/improper','FACTOR2_steering failure','FACTOR2_texting','FACTOR2_tinted windows','FACTOR2_tire failure/inadequate','FACTOR2_tow hitch defective','FACTOR2_traffic control device improper/non-working','FACTOR2_traffic control disregarded','FACTOR2_turning improperly','FACTOR2_unsafe lane changing','FACTOR2_unsafe speed','FACTOR2_unspecified','FACTOR2_using on board navigation device','FACTOR2_vehicle vandalism','FACTOR2_view obstructed/limited','FACTOR2_windshield inadequate','DAY_Friday','DAY_Saturday','DAY_Sunday','DAY_Thursday','DAY_Tuesday','DAY_Wednesday','TIME_Afternoon','TIME_Evening','TIME_Night','FACTORCAT1_Environmental','FACTORCAT1_Human','FACTORCAT1_Vehicular','FACTORCAT2_Environmental','FACTORCAT2_Human','FACTORCAT2_Vehicular'"
   ]
  },
  {
   "cell_type": "code",
   "execution_count": 0,
   "metadata": {
    "application/vnd.databricks.v1+cell": {
     "cellMetadata": {},
     "inputWidgets": {},
     "nuid": "32087056-fbc7-4137-ab78-b6bdd4e26769",
     "showTitle": false,
     "tableResultSettingsMap": {},
     "title": ""
    }
   },
   "outputs": [],
   "source": [
    "nyc_data_with_dummies['any_aggressive driving/road rage'] = ((nyc_data_with_dummies['FACTOR1_aggressive driving/road rage']) | (nyc_data_with_dummies['FACTOR2_aggressive driving/road rage'])).astype(int)\n",
    "nyc_data_with_dummies['any_alcohol involvement'] = ((nyc_data_with_dummies['FACTOR1_alcohol involvement']) | (nyc_data_with_dummies['FACTOR2_alcohol involvement'])).astype(int)\n",
    "nyc_data_with_dummies['any_animals action'] = ((nyc_data_with_dummies['FACTOR1_animals action']) | (nyc_data_with_dummies['FACTOR2_animals action'])).astype(int)\n",
    "nyc_data_with_dummies['any_backing unsafely'] = ((nyc_data_with_dummies['FACTOR1_backing unsafely']) | (nyc_data_with_dummies['FACTOR2_backing unsafely'])).astype(int)\n",
    "nyc_data_with_dummies['any_brakes defective'] = ((nyc_data_with_dummies['FACTOR1_brakes defective']) | (nyc_data_with_dummies['FACTOR2_brakes defective'])).astype(int)\n",
    "nyc_data_with_dummies['any_cell phone (hand-held)'] = ((nyc_data_with_dummies['FACTOR1_cell phone (hand-held)']) | (nyc_data_with_dummies['FACTOR2_cell phone (hand-held)'])).astype(int)\n",
    "nyc_data_with_dummies['any_cell phone (hands-free)'] = ((nyc_data_with_dummies['FACTOR1_cell phone (hands-free)']) | (nyc_data_with_dummies['FACTOR2_cell phone (hands-free)'])).astype(int)\n",
    "nyc_data_with_dummies['any_driver inattention/distraction'] = ((nyc_data_with_dummies['FACTOR1_driver inattention/distraction']) | (nyc_data_with_dummies['FACTOR2_driver inattention/distraction'])).astype(int)\n",
    "nyc_data_with_dummies['any_driver inexperience'] = ((nyc_data_with_dummies['FACTOR1_driver inexperience']) | (nyc_data_with_dummies['FACTOR2_driver inexperience'])).astype(int)\n",
    "nyc_data_with_dummies['any_driverless/runaway vehicle'] = ((nyc_data_with_dummies['FACTOR1_driverless/runaway vehicle']) | (nyc_data_with_dummies['FACTOR2_driverless/runaway vehicle'])).astype(int)\n",
    "nyc_data_with_dummies['any_drugs (illegal)'] = ((nyc_data_with_dummies['FACTOR1_drugs (illegal)']) | (nyc_data_with_dummies['FACTOR2_drugs (illegal)'])).astype(int)\n",
    "nyc_data_with_dummies['any_eating or drinking'] = ((nyc_data_with_dummies['FACTOR1_eating or drinking']) | (nyc_data_with_dummies['FACTOR2_eating or drinking'])).astype(int)\n",
    "nyc_data_with_dummies['any_failure to keep right'] = ((nyc_data_with_dummies['FACTOR1_failure to keep right']) | (nyc_data_with_dummies['FACTOR2_failure to keep right'])).astype(int)\n",
    "nyc_data_with_dummies['any_failure to yield right-of-way'] = ((nyc_data_with_dummies['FACTOR1_failure to yield right-of-way']) | (nyc_data_with_dummies['FACTOR2_failure to yield right-of-way'])).astype(int)\n",
    "nyc_data_with_dummies['any_fatigued/drowsy'] = ((nyc_data_with_dummies['FACTOR1_fatigued/drowsy']) | (nyc_data_with_dummies['FACTOR2_fatigued/drowsy'])).astype(int)\n",
    "nyc_data_with_dummies['any_fell asleep'] = ((nyc_data_with_dummies['FACTOR1_fell asleep']) | (nyc_data_with_dummies['FACTOR2_fell asleep'])).astype(int)\n",
    "nyc_data_with_dummies['any_following too closely'] = ((nyc_data_with_dummies['FACTOR1_following too closely']) | (nyc_data_with_dummies['FACTOR2_following too closely'])).astype(int)\n",
    "nyc_data_with_dummies['any_glare'] = ((nyc_data_with_dummies['FACTOR1_glare']) | (nyc_data_with_dummies['FACTOR2_glare'])).astype(int)\n",
    "nyc_data_with_dummies['any_headlights defective'] = ((nyc_data_with_dummies['FACTOR1_headlights defective']) | (nyc_data_with_dummies['FACTOR2_headlights defective'])).astype(int)\n",
    "nyc_data_with_dummies['any_illness'] = ((nyc_data_with_dummies['FACTOR1_illness']) | (nyc_data_with_dummies['FACTOR2_illness'])).astype(int)\n",
    "nyc_data_with_dummies['any_lane marking improper/inadequate'] = ((nyc_data_with_dummies['FACTOR1_lane marking improper/inadequate']) | (nyc_data_with_dummies['FACTOR2_lane marking improper/inadequate'])).astype(int)\n",
    "nyc_data_with_dummies['any_listening/using headphones'] = ((nyc_data_with_dummies['FACTOR1_listening/using headphones']) | (nyc_data_with_dummies['FACTOR2_listening/using headphones'])).astype(int)\n",
    "nyc_data_with_dummies['any_lost consciousness'] = ((nyc_data_with_dummies['FACTOR1_lost consciousness']) | (nyc_data_with_dummies['FACTOR2_lost consciousness'])).astype(int)\n",
    "nyc_data_with_dummies['any_obstruction/debris'] = ((nyc_data_with_dummies['FACTOR1_obstruction/debris']) | (nyc_data_with_dummies['FACTOR2_obstruction/debris'])).astype(int)\n",
    "nyc_data_with_dummies['any_other electronic device'] = ((nyc_data_with_dummies['FACTOR1_other electronic device']) | (nyc_data_with_dummies['FACTOR2_other electronic device'])).astype(int)\n",
    "nyc_data_with_dummies['any_other lighting defects'] = ((nyc_data_with_dummies['FACTOR1_other lighting defects']) | (nyc_data_with_dummies['FACTOR2_other lighting defects'])).astype(int)\n",
    "nyc_data_with_dummies['any_other vehicular'] = ((nyc_data_with_dummies['FACTOR1_other vehicular']) | (nyc_data_with_dummies['FACTOR2_other vehicular'])).astype(int)\n",
    "nyc_data_with_dummies['any_outside car distraction'] = ((nyc_data_with_dummies['FACTOR1_outside car distraction']) | (nyc_data_with_dummies['FACTOR2_outside car distraction'])).astype(int)\n",
    "nyc_data_with_dummies['any_oversized vehicle'] = ((nyc_data_with_dummies['FACTOR1_oversized vehicle']) | (nyc_data_with_dummies['FACTOR2_oversized vehicle'])).astype(int)\n",
    "nyc_data_with_dummies['any_passenger distraction'] = ((nyc_data_with_dummies['FACTOR1_passenger distraction']) | (nyc_data_with_dummies['FACTOR2_passenger distraction'])).astype(int)\n",
    "nyc_data_with_dummies['any_passing or lane usage improper'] = ((nyc_data_with_dummies['FACTOR1_passing or lane usage improper']) | (nyc_data_with_dummies['FACTOR2_passing or lane usage improper'])).astype(int)\n",
    "nyc_data_with_dummies['any_passing too closely'] = ((nyc_data_with_dummies['FACTOR1_passing too closely']) | (nyc_data_with_dummies['FACTOR2_passing too closely'])).astype(int)\n",
    "nyc_data_with_dummies['any_pavement defective'] = ((nyc_data_with_dummies['FACTOR1_pavement defective']) | (nyc_data_with_dummies['FACTOR2_pavement defective'])).astype(int)\n",
    "nyc_data_with_dummies['any_pavement slippery'] = ((nyc_data_with_dummies['FACTOR1_pavement slippery']) | (nyc_data_with_dummies['FACTOR2_pavement slippery'])).astype(int)\n",
    "nyc_data_with_dummies['any_pedestrian/bicyclist/other pedestrian error/confusion'] = ((nyc_data_with_dummies['FACTOR1_pedestrian/bicyclist/other pedestrian error/confusion']) | (nyc_data_with_dummies['FACTOR2_pedestrian/bicyclist/other pedestrian error/confusion'])).astype(int)\n",
    "nyc_data_with_dummies['any_physical disability'] = ((nyc_data_with_dummies['FACTOR1_physical disability']) | (nyc_data_with_dummies['FACTOR2_physical disability'])).astype(int)\n",
    "nyc_data_with_dummies['any_prescription medication'] = ((nyc_data_with_dummies['FACTOR1_prescription medication']) | (nyc_data_with_dummies['FACTOR2_prescription medication'])).astype(int)\n",
    "nyc_data_with_dummies['any_reaction to other uninvolved vehicle'] = ((nyc_data_with_dummies['FACTOR1_reaction to other uninvolved vehicle']) | (nyc_data_with_dummies['FACTOR2_reaction to other uninvolved vehicle'])).astype(int)\n",
    "nyc_data_with_dummies['any_reaction to uninvolved vehicle'] = ((nyc_data_with_dummies['FACTOR1_reaction to uninvolved vehicle']) | (nyc_data_with_dummies['FACTOR2_reaction to uninvolved vehicle'])).astype(int)\n",
    "nyc_data_with_dummies['any_shoulders defective/improper'] = ((nyc_data_with_dummies['FACTOR1_shoulders defective/improper']) | (nyc_data_with_dummies['FACTOR2_shoulders defective/improper'])).astype(int)\n",
    "nyc_data_with_dummies['any_steering failure'] = ((nyc_data_with_dummies['FACTOR1_steering failure']) | (nyc_data_with_dummies['FACTOR2_steering failure'])).astype(int)\n",
    "nyc_data_with_dummies['any_texting'] = ((nyc_data_with_dummies['FACTOR1_texting']) | (nyc_data_with_dummies['FACTOR2_texting'])).astype(int)\n",
    "nyc_data_with_dummies['any_tinted windows'] = ((nyc_data_with_dummies['FACTOR1_tinted windows']) | (nyc_data_with_dummies['FACTOR2_tinted windows'])).astype(int)\n",
    "nyc_data_with_dummies['any_tire failure/inadequate'] = ((nyc_data_with_dummies['FACTOR1_tire failure/inadequate']) | (nyc_data_with_dummies['FACTOR2_tire failure/inadequate'])).astype(int)\n",
    "nyc_data_with_dummies['any_tow hitch defective'] = ((nyc_data_with_dummies['FACTOR1_tow hitch defective']) | (nyc_data_with_dummies['FACTOR2_tow hitch defective'])).astype(int)\n",
    "nyc_data_with_dummies['any_traffic control device improper/non-working'] = ((nyc_data_with_dummies['FACTOR1_traffic control device improper/non-working']) | (nyc_data_with_dummies['FACTOR2_traffic control device improper/non-working'])).astype(int)\n",
    "nyc_data_with_dummies['any_traffic control disregarded'] = ((nyc_data_with_dummies['FACTOR1_traffic control disregarded']) | (nyc_data_with_dummies['FACTOR2_traffic control disregarded'])).astype(int)\n",
    "nyc_data_with_dummies['any_turning improperly'] = ((nyc_data_with_dummies['FACTOR1_turning improperly']) | (nyc_data_with_dummies['FACTOR2_turning improperly'])).astype(int)\n",
    "nyc_data_with_dummies['any_unsafe lane changing'] = ((nyc_data_with_dummies['FACTOR1_unsafe lane changing']) | (nyc_data_with_dummies['FACTOR2_unsafe lane changing'])).astype(int)\n",
    "nyc_data_with_dummies['any_unsafe speed'] = ((nyc_data_with_dummies['FACTOR1_unsafe speed']) | (nyc_data_with_dummies['FACTOR2_unsafe speed'])).astype(int)\n",
    "nyc_data_with_dummies['any_unspecified'] = ((nyc_data_with_dummies['FACTOR1_unspecified']) | (nyc_data_with_dummies['FACTOR2_unspecified'])).astype(int)\n",
    "nyc_data_with_dummies['any_using on board navigation device'] = ((nyc_data_with_dummies['FACTOR1_using on board navigation device']) | (nyc_data_with_dummies['FACTOR2_using on board navigation device'])).astype(int)\n",
    "nyc_data_with_dummies['any_vehicle vandalism'] = ((nyc_data_with_dummies['FACTOR1_vehicle vandalism']) | (nyc_data_with_dummies['FACTOR2_vehicle vandalism'])).astype(int)\n",
    "nyc_data_with_dummies['any_view obstructed/limited'] = ((nyc_data_with_dummies['FACTOR1_view obstructed/limited']) | (nyc_data_with_dummies['FACTOR2_view obstructed/limited'])).astype(int)\n",
    "nyc_data_with_dummies['any_windshield inadequate'] = ((nyc_data_with_dummies['FACTOR1_windshield inadequate']) | (nyc_data_with_dummies['FACTOR2_windshield inadequate'])).astype(int)"
   ]
  },
  {
   "cell_type": "code",
   "execution_count": 0,
   "metadata": {
    "application/vnd.databricks.v1+cell": {
     "cellMetadata": {},
     "inputWidgets": {},
     "nuid": "6c3d018b-b41b-4eb0-aaf6-3fe75377a2a2",
     "showTitle": false,
     "tableResultSettingsMap": {},
     "title": ""
    }
   },
   "outputs": [],
   "source": [
    "#Eleventh Dirty Model using all columns\n",
    "X = nyc_data_with_dummies.loc[:,['any_factor_Human','DAY_Saturday', 'DAY_Wednesday','TIME_Afternoon','TIME_Evening','TIME_Night','BOROUGH_BROOKLYN','BOROUGH_MANHATTAN','BOROUGH_QUEENS','BOROUGH_STATEN ISLAND','any_aggressive driving/road rage','any_alcohol involvement','any_animals action','any_backing unsafely','any_brakes defective','any_cell phone (hand-held)','any_driver inattention/distraction','any_driver inexperience','any_driverless/runaway vehicle','any_drugs (illegal)','any_failure to yield right-of-way','any_fatigued/drowsy','any_fell asleep','any_following too closely','any_glare','any_headlights defective','any_illness','any_lane marking improper/inadequate','any_listening/using headphones','any_lost consciousness','any_obstruction/debris','any_other lighting defects','any_other vehicular','any_outside car distraction','any_oversized vehicle','any_passenger distraction','any_passing or lane usage improper','any_passing too closely','any_pavement defective','any_pavement slippery','any_pedestrian/bicyclist/other pedestrian error/confusion','any_physical disability','any_prescription medication','any_reaction to other uninvolved vehicle','any_tinted windows','any_tow hitch defective','any_traffic control device improper/non-working','any_traffic control disregarded','any_turning improperly','any_unsafe lane changing','any_unsafe speed','any_unspecified','any_vehicle vandalism','any_view obstructed/limited']].values\n",
    "\n",
    "# Convert boolean columns to integers using NumPy operations\n",
    "X = X.astype(int)  # Assuming all values are already boolean or integer\n",
    "\n",
    "# Add a constant column for the intercept term\n",
    "X = sm.add_constant(X)"
   ]
  },
  {
   "cell_type": "code",
   "execution_count": 0,
   "metadata": {
    "application/vnd.databricks.v1+cell": {
     "cellMetadata": {},
     "inputWidgets": {},
     "nuid": "4201e2b2-46cf-44cb-aa1a-24b745fde74b",
     "showTitle": false,
     "tableResultSettingsMap": {},
     "title": ""
    }
   },
   "outputs": [],
   "source": [
    "#Run Logistic Regression model\n",
    "model_dirty = sm.Logit(Y, X).fit()"
   ]
  },
  {
   "cell_type": "code",
   "execution_count": 0,
   "metadata": {
    "application/vnd.databricks.v1+cell": {
     "cellMetadata": {},
     "inputWidgets": {},
     "nuid": "1c016e52-27ce-4774-b6ac-0b9c3aea90fd",
     "showTitle": false,
     "tableResultSettingsMap": {},
     "title": ""
    }
   },
   "outputs": [],
   "source": [
    "#Model Summary Output\n",
    "model_dirty.summary(yname='any_casualty_flag',\n",
    "              xname=('constant','any_factor_Human','DAY_Saturday', 'DAY_Wednesday','TIME_Afternoon','TIME_Evening','TIME_Night','BOROUGH_BROOKLYN','BOROUGH_MANHATTAN','BOROUGH_QUEENS','BOROUGH_STATEN ISLAND','any_aggressive driving/road rage','any_alcohol involvement','any_animals action','any_backing unsafely','any_brakes defective','any_cell phone (hand-held)','any_driver inattention/distraction','any_driver inexperience','any_driverless/runaway vehicle','any_drugs (illegal)','any_failure to yield right-of-way','any_fatigued/drowsy','any_fell asleep','any_following too closely','any_glare','any_headlights defective','any_illness','any_lane marking improper/inadequate','any_listening/using headphones','any_lost consciousness','any_obstruction/debris','any_other lighting defects','any_other vehicular','any_outside car distraction','any_oversized vehicle','any_passenger distraction','any_passing or lane usage improper','any_passing too closely','any_pavement defective','any_pavement slippery','any_pedestrian/bicyclist/other pedestrian error/confusion','any_physical disability','any_prescription medication','any_reaction to other uninvolved vehicle','any_tinted windows','any_tow hitch defective','any_traffic control device improper/non-working','any_traffic control disregarded','any_turning improperly','any_unsafe lane changing','any_unsafe speed','any_unspecified','any_vehicle vandalism','any_view obstructed/limited'),\n",
    "              title = 'Final Model for Insights and Recommendation')"
   ]
  },
  {
   "cell_type": "code",
   "execution_count": 0,
   "metadata": {
    "application/vnd.databricks.v1+cell": {
     "cellMetadata": {},
     "inputWidgets": {},
     "nuid": "9cb067d1-f024-4800-a1f5-f1e2410c02b8",
     "showTitle": false,
     "tableResultSettingsMap": {},
     "title": ""
    }
   },
   "outputs": [],
   "source": [
    "#Eleventh Dirty Model using all columns\n",
    "X = nyc_data_with_dummies.loc[:,['any_factor_Human','DAY_Saturday', 'DAY_Wednesday','TIME_Afternoon','TIME_Evening','TIME_Night','BOROUGH_BROOKLYN','BOROUGH_MANHATTAN','BOROUGH_QUEENS','BOROUGH_STATEN ISLAND','any_aggressive driving/road rage','any_alcohol involvement','any_animals action','any_backing unsafely','any_brakes defective','any_cell phone (hand-held)','any_driver inattention/distraction','any_driver inexperience','any_driverless/runaway vehicle','any_drugs (illegal)','any_failure to yield right-of-way','any_fatigued/drowsy','any_fell asleep','any_following too closely','any_glare','any_headlights defective','any_illness','any_lane marking improper/inadequate','any_listening/using headphones','any_lost consciousness','any_obstruction/debris','any_other lighting defects','any_other vehicular','any_outside car distraction','any_oversized vehicle','any_passenger distraction','any_passing or lane usage improper','any_passing too closely','any_pavement defective','any_pavement slippery','any_pedestrian/bicyclist/other pedestrian error/confusion','any_physical disability','any_prescription medication','any_reaction to other uninvolved vehicle','any_tinted windows','any_tow hitch defective','any_traffic control device improper/non-working','any_traffic control disregarded','any_turning improperly','any_unsafe lane changing','any_unsafe speed','any_unspecified','any_vehicle vandalism','any_view obstructed/limited','YEAR_2013','YEAR_2014','YEAR_2015','YEAR_2016','YEAR_2017','YEAR_2018','YEAR_2020','YEAR_2021','YEAR_2022','YEAR_2023','YEAR_2024','Month_2','Month_4','Month_5','Month_6','Month_7','Month_8','Month_9','Month_10','Month_11','Month_12']].values\n",
    "\n",
    "# Convert boolean columns to integers using NumPy operations\n",
    "X = X.astype(int)  # Assuming all values are already boolean or integer\n",
    "\n",
    "# Add a constant column for the intercept term\n",
    "X = sm.add_constant(X)"
   ]
  },
  {
   "cell_type": "code",
   "execution_count": 0,
   "metadata": {
    "application/vnd.databricks.v1+cell": {
     "cellMetadata": {},
     "inputWidgets": {},
     "nuid": "4d9046ec-776b-4465-8063-85372e822cda",
     "showTitle": false,
     "tableResultSettingsMap": {},
     "title": ""
    }
   },
   "outputs": [],
   "source": [
    "#Run Logistic Regression model\n",
    "model_dirty1 = sm.Logit(Y, X).fit()"
   ]
  },
  {
   "cell_type": "code",
   "execution_count": 0,
   "metadata": {
    "application/vnd.databricks.v1+cell": {
     "cellMetadata": {},
     "inputWidgets": {},
     "nuid": "79af2810-6d1e-43b2-8254-71f7f7428fbb",
     "showTitle": false,
     "tableResultSettingsMap": {},
     "title": ""
    }
   },
   "outputs": [],
   "source": [
    "#Model Summary Output\n",
    "model_dirty1.summary(yname='any_casualty_flag',\n",
    "              xname=('constant','any_factor_Human','DAY_Saturday', 'DAY_Wednesday','TIME_Afternoon','TIME_Evening','TIME_Night','BOROUGH_BROOKLYN','BOROUGH_MANHATTAN','BOROUGH_QUEENS','BOROUGH_STATEN ISLAND','any_aggressive driving/road rage','any_alcohol involvement','any_animals action','any_backing unsafely','any_brakes defective','any_cell phone (hand-held)','any_driver inattention/distraction','any_driver inexperience','any_driverless/runaway vehicle','any_drugs (illegal)','any_failure to yield right-of-way','any_fatigued/drowsy','any_fell asleep','any_following too closely','any_glare','any_headlights defective','any_illness','any_lane marking improper/inadequate','any_listening/using headphones','any_lost consciousness','any_obstruction/debris','any_other lighting defects','any_other vehicular','any_outside car distraction','any_oversized vehicle','any_passenger distraction','any_passing or lane usage improper','any_passing too closely','any_pavement defective','any_pavement slippery','any_pedestrian/bicyclist/other pedestrian error/confusion','any_physical disability','any_prescription medication','any_reaction to other uninvolved vehicle','any_tinted windows','any_tow hitch defective','any_traffic control device improper/non-working','any_traffic control disregarded','any_turning improperly','any_unsafe lane changing','any_unsafe speed','any_unspecified','any_vehicle vandalism','any_view obstructed/limited','YEAR_2013','YEAR_2014','YEAR_2015','YEAR_2016','YEAR_2017','YEAR_2018','YEAR_2020','YEAR_2021','YEAR_2022','YEAR_2023','YEAR_2024','Month_2','Month_4','Month_5','Month_6','Month_7','Month_8','Month_9','Month_10','Month_11','Month_12'),\n",
    "              title = 'Final Model for Insights and Recommendation')"
   ]
  },
  {
   "cell_type": "code",
   "execution_count": 0,
   "metadata": {
    "application/vnd.databricks.v1+cell": {
     "cellMetadata": {},
     "inputWidgets": {},
     "nuid": "21c0ace4-d49c-4725-abee-6b4b9aeb2f0e",
     "showTitle": false,
     "tableResultSettingsMap": {},
     "title": ""
    }
   },
   "outputs": [],
   "source": []
  },
  {
   "cell_type": "code",
   "execution_count": 0,
   "metadata": {
    "application/vnd.databricks.v1+cell": {
     "cellMetadata": {},
     "inputWidgets": {},
     "nuid": "8a805f86-5689-4356-8612-9edb7476b8b8",
     "showTitle": false,
     "tableResultSettingsMap": {},
     "title": ""
    }
   },
   "outputs": [],
   "source": []
  }
 ],
 "metadata": {
  "application/vnd.databricks.v1+notebook": {
   "computePreferences": null,
   "dashboards": [],
   "environmentMetadata": null,
   "inputWidgetPreferences": null,
   "language": "python",
   "notebookMetadata": {
    "pythonIndentUnit": 4
   },
   "notebookName": "(Clone) Juniper NYC Casestudy",
   "widgets": {}
  },
  "language_info": {
   "name": "python"
  }
 },
 "nbformat": 4,
 "nbformat_minor": 0
}
